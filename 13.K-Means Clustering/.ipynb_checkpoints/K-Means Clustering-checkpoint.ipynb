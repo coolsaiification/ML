{
 "cells": [
  {
   "cell_type": "markdown",
   "metadata": {},
   "source": [
    "# K-Means\n",
    "- Common clustering technique, helps to solve many problems efficiently.\n",
    "- K-Means is an example of Hard Clustering, where every point belongs only to one cluster.\n",
    "\n",
    "## Motivation Problem - *Pizza Parlour Study*\n",
    "\n",
    "**Problem Statement** Given the list of locations of customers who frequently order Pizza we want to find out optimal locations of Pizza Parlours where they should be opened.\n",
    "\n",
    "<img src=\"https://github.com/coding-blocks-archives/machine-learning-online-2018/blob/master/10.%20K-Means%20and%20Color%20Extraction/pizza1.png?raw=true\" alt=\"Pizza-1\" style=\"width: 400px;\"/>\n",
    "\n",
    "**Step-1** : Initialise Pizza Parlour Centers randomly.\n",
    "<img src=\"https://github.com/coding-blocks-archives/machine-learning-online-2018/blob/master/10.%20K-Means%20and%20Color%20Extraction/pizza2.png?raw=true\" alt=\"Pizza-2\" style=\"width: 400px;\"/>\n",
    "\n",
    "**Step-2** : Assign each customer to its nearest Pizza Center.\n",
    "<img src=\"https://github.com/coding-blocks-archives/machine-learning-online-2018/blob/master/10.%20K-Means%20and%20Color%20Extraction/pizza3.png?raw=true\" alt=\"Pizza-3\" style=\"width: 400px;\"/>\n",
    "\n",
    "**Step-3** : Update the Center Location by taking mean of customers assigned to it.\n",
    "<img src=\"https://github.com/coding-blocks-archives/machine-learning-online-2018/blob/master/10.%20K-Means%20and%20Color%20Extraction/pizza4.png?raw=true\" alt=\"Pizza-4\" style=\"width: 400px;\"/>\n",
    "\n",
    "**Step-4** : Repeat Steps 2 and 3 Until Convergence.\n",
    "<img src=\"https://github.com/coding-blocks-archives/machine-learning-online-2018/blob/master/10.%20K-Means%20and%20Color%20Extraction/pizza5.png?raw=true\" alt=\"Pizza-5\" style=\"width: 400px;\"/>"
   ]
  },
  {
   "cell_type": "markdown",
   "metadata": {},
   "source": [
    "## K-Means Algorithm\n",
    "\n",
    "**Input Data** : X = {x1,...,xN}\n",
    "\n",
    "**Goal** : Partition the data among some K number of clusters. Let us assume K is known to us.\n",
    "\n",
    "Let µk denote the center of Kth Cluster (uk will be vector)\n",
    "\n",
    "So we need to ﬁnd an assignment of data points to clusters,\n",
    "as well as a set of cluster centers{µk}, such that the sum of the squares \n",
    "of the distances of each data point to its closest cluster center µk, is a minimum. \n",
    "\n"
   ]
  },
  {
   "cell_type": "markdown",
   "metadata": {},
   "source": [
    "\n",
    "<img src=\"https://github.com/coding-blocks-archives/machine-learning-online-2018/blob/master/10.%20K-Means%20and%20Color%20Extraction/k-means.png?raw=true\" alt=\"Pizza-1\" style=\"width: 600px;\"/>\n"
   ]
  },
  {
   "cell_type": "markdown",
   "metadata": {},
   "source": [
    "## Implementation\n",
    "\n"
   ]
  },
  {
   "cell_type": "code",
   "execution_count": 1,
   "metadata": {},
   "outputs": [],
   "source": [
    "import numpy as np\n",
    "from matplotlib import pyplot as plt\n",
    "from sklearn.datasets import make_blobs"
   ]
  },
  {
   "cell_type": "markdown",
   "metadata": {},
   "source": [
    "## Dataset Preparation"
   ]
  },
  {
   "cell_type": "code",
   "execution_count": 2,
   "metadata": {},
   "outputs": [],
   "source": [
    "X,Y  = make_blobs?"
   ]
  },
  {
   "cell_type": "code",
   "execution_count": 18,
   "metadata": {},
   "outputs": [],
   "source": [
    "X,Y  = make_blobs(n_samples=500, n_features=2, centers=5, random_state=5)"
   ]
  },
  {
   "cell_type": "code",
   "execution_count": 19,
   "metadata": {},
   "outputs": [
    {
     "data": {
      "image/png": "[encoded data removed]",
      "text/plain": [
       "<Figure size 432x288 with 1 Axes>"
      ]
     },
     "metadata": {
      "needs_background": "light"
     },
     "output_type": "display_data"
    }
   ],
   "source": [
    "plt.grid(True)\n",
    "plt.scatter(X[:,0], X[:,1])\n",
    "plt.show()"
   ]
  },
  {
   "cell_type": "code",
   "execution_count": 20,
   "metadata": {},
   "outputs": [],
   "source": [
    "k = 5\n",
    "colors = [\"blue\", \"green\", \"yellow\", \"red\", \"orange\"]\n",
    "\n",
    "cluster = {}\n",
    "\n",
    "for i in range(k):\n",
    "    center = 10*(2*np.random.random((X.shape[1],))-1)\n",
    "    color = colors[i]\n",
    "    points = []\n",
    "    \n",
    "    cluster[i] = {\n",
    "        'center':center,\n",
    "        'color':color,\n",
    "        'points':points\n",
    "    }"
   ]
  },
  {
   "cell_type": "code",
   "execution_count": 21,
   "metadata": {},
   "outputs": [
    {
     "name": "stdout",
     "output_type": "stream",
     "text": [
      "5.0\n"
     ]
    }
   ],
   "source": [
    "def distance(p1,p2):\n",
    "    return np.sqrt(np.sum((p1-p2)**2))\n",
    "print(distance(np.array([1,2]),np.array([4,6])))"
   ]
  },
  {
   "cell_type": "code",
   "execution_count": 22,
   "metadata": {},
   "outputs": [],
   "source": [
    "# E-Step (Expectation)\n",
    "def assignPointToCluster(cluster):\n",
    "    for ix in range(X.shape[0]):\n",
    "        dist = []\n",
    "        cur_x = X[ix]\n",
    "        for j in range(k):\n",
    "            dist.append(distance(cluster[j]['center'], cur_x))\n",
    "        current_cluster = np.argmin(dist)\n",
    "        cluster[current_cluster]['points'].append(cur_x)"
   ]
  },
  {
   "cell_type": "code",
   "execution_count": 23,
   "metadata": {},
   "outputs": [],
   "source": [
    "# M-Step (Maximization)\n",
    "def updateCluster(cluster):\n",
    "    for ic in range(k):\n",
    "        pts = np.array(cluster[ic]['points'])\n",
    "        if(pts.shape[0]>0):\n",
    "            new_u = pts.mean(axis=0)\n",
    "            cluster[ic]['center'] = new_u\n",
    "            cluster[ic]['points'] = []"
   ]
  },
  {
   "cell_type": "code",
   "execution_count": 24,
   "metadata": {},
   "outputs": [],
   "source": [
    "def plotCluster(cluster):\n",
    "    for ic in range(k):\n",
    "        pts = np.array(cluster[ic]['points'])\n",
    "        if(pts.shape[0]>0):\n",
    "            print(cluster[ic]['color'])\n",
    "            plt.scatter(pts[:,0], pts[:,1], color=cluster[ic]['color'])\n",
    "        cluster_center = cluster[ic]['center']\n",
    "        plt.scatter(cluster_center[0], cluster_center[1], color='black', marker='^', s=100)\n",
    "        \n",
    "    plt.show()"
   ]
  },
  {
   "cell_type": "code",
   "execution_count": 25,
   "metadata": {},
   "outputs": [
    {
     "data": {
      "image/png": "[encoded data removed]",
      "text/plain": [
       "<Figure size 432x288 with 1 Axes>"
      ]
     },
     "metadata": {
      "needs_background": "light"
     },
     "output_type": "display_data"
    }
   ],
   "source": [
    "plotCluster(cluster)"
   ]
  },
  {
   "cell_type": "code",
   "execution_count": 31,
   "metadata": {},
   "outputs": [
    {
     "name": "stdout",
     "output_type": "stream",
     "text": [
      "blue\n",
      "green\n",
      "yellow\n",
      "red\n",
      "orange\n"
     ]
    },
    {
     "data": {
      "image/png": "[encoded data removed]",
      "text/plain": [
       "<Figure size 432x288 with 1 Axes>"
      ]
     },
     "metadata": {
      "needs_background": "light"
     },
     "output_type": "display_data"
    }
   ],
   "source": [
    "# Repeat this cell few times or put it inside a loop\n",
    "assignPointToCluster(cluster)\n",
    "plotCluster(cluster)\n",
    "updateCluster(cluster)"
   ]
  },
  {
   "cell_type": "code",
   "execution_count": null,
   "metadata": {},
   "outputs": [],
   "source": []
  }
 ],
 "metadata": {
  "kernelspec": {
   "display_name": "Python 3",
   "language": "python",
   "name": "python3"
  },
  "language_info": {
   "codemirror_mode": {
    "name": "ipython",
    "version": 3
   },
   "file_extension": ".py",
   "mimetype": "text/x-python",
   "name": "python",
   "nbconvert_exporter": "python",
   "pygments_lexer": "ipython3",
   "version": "3.6.7"
  }
 },
 "nbformat": 4,
 "nbformat_minor": 2
}
