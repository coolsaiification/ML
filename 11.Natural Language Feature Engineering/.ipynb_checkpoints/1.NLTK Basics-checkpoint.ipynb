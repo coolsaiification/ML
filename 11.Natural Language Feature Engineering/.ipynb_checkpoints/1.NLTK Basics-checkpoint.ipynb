{
 "cells": [
  {
   "cell_type": "markdown",
   "metadata": {},
   "source": [
    "# Basic NLP Pipeline\n",
    "1. Data Collection\n",
    "2. Tokenization,Stopwords,Stemming\n",
    "3. Building a common vocab\n",
    "4. Vectorizing the documents\n",
    "5. Performing classification/clustering"
   ]
  },
  {
   "cell_type": "markdown",
   "metadata": {},
   "source": [
    "## 1. Data Collection"
   ]
  },
  {
   "cell_type": "code",
   "execution_count": 2,
   "metadata": {},
   "outputs": [],
   "source": [
    "from nltk.corpus import brown"
   ]
  },
  {
   "cell_type": "code",
   "execution_count": 3,
   "metadata": {},
   "outputs": [
    {
     "name": "stdout",
     "output_type": "stream",
     "text": [
      "['adventure', 'belles_lettres', 'editorial', 'fiction', 'government', 'hobbies', 'humor', 'learned', 'lore', 'mystery', 'news', 'religion', 'reviews', 'romance', 'science_fiction']\n"
     ]
    }
   ],
   "source": [
    "print(brown.categories())"
   ]
  },
  {
   "cell_type": "code",
   "execution_count": 4,
   "metadata": {},
   "outputs": [
    {
     "name": "stdout",
     "output_type": "stream",
     "text": [
      "[['Assembly', 'session', 'brought', 'much', 'good'], ['The', 'General', 'Assembly', ',', 'which', 'adjourns', 'today', ',', 'has', 'performed', 'in', 'an', 'atmosphere', 'of', 'crisis', 'and', 'struggle', 'from', 'the', 'day', 'it', 'convened', '.'], ...]\n"
     ]
    }
   ],
   "source": [
    "data = brown.sents(categories=\"editorial\")\n",
    "print(data)"
   ]
  },
  {
   "cell_type": "code",
   "execution_count": 5,
   "metadata": {},
   "outputs": [
    {
     "name": "stdout",
     "output_type": "stream",
     "text": [
      "2997\n"
     ]
    }
   ],
   "source": [
    "print(len(data))"
   ]
  },
  {
   "cell_type": "markdown",
   "metadata": {},
   "source": [
    "## 2. Tokenization,Stopwords,Stemming"
   ]
  },
  {
   "cell_type": "markdown",
   "metadata": {},
   "source": [
    "### Tokenization"
   ]
  },
  {
   "cell_type": "code",
   "execution_count": 6,
   "metadata": {},
   "outputs": [
    {
     "name": "stdout",
     "output_type": "stream",
     "text": [
      "It was a very pleasant day, weather was cool and there were light showers. I went to the market to buy some fruits.\n"
     ]
    }
   ],
   "source": [
    "text = \"It was a very pleasant day, weather was cool and there were light showers. I went to the market to buy some fruits.\"\n",
    "print(text)"
   ]
  },
  {
   "cell_type": "code",
   "execution_count": 7,
   "metadata": {},
   "outputs": [],
   "source": [
    "from nltk.tokenize import sent_tokenize, word_tokenize"
   ]
  },
  {
   "cell_type": "code",
   "execution_count": 8,
   "metadata": {
    "scrolled": true
   },
   "outputs": [
    {
     "name": "stdout",
     "output_type": "stream",
     "text": [
      "['It was a very pleasant day, weather was cool and there were light showers.', 'I went to the market to buy some fruits.']\n"
     ]
    }
   ],
   "source": [
    "sents = sent_tokenize(text)\n",
    "print(sents)"
   ]
  },
  {
   "cell_type": "code",
   "execution_count": 11,
   "metadata": {},
   "outputs": [
    {
     "name": "stdout",
     "output_type": "stream",
     "text": [
      "It was a very pleasant day, weather was cool and there were light showers.\n",
      "['it', 'was', 'a', 'very', 'pleasant', 'day', ',', 'weather', 'was', 'cool', 'and', 'there', 'were', 'light', 'showers', '.']\n"
     ]
    }
   ],
   "source": [
    "print(sents[0])\n",
    "words = word_tokenize(sents[0].lower())\n",
    "print(words)"
   ]
  },
  {
   "cell_type": "markdown",
   "metadata": {},
   "source": [
    "### Stopwords removal"
   ]
  },
  {
   "cell_type": "code",
   "execution_count": 14,
   "metadata": {},
   "outputs": [
    {
     "name": "stdout",
     "output_type": "stream",
     "text": [
      "{'this', \"shan't\", 'myself', 'why', 'was', 'mustn', 'i', 'is', 'couldn', 'not', \"needn't\", \"you'll\", 'me', 'be', 'aren', 'his', 'about', \"doesn't\", \"hadn't\", \"don't\", \"haven't\", 'and', 'nor', 'as', \"she's\", 'who', \"didn't\", 'didn', 'that', 'all', \"mustn't\", 'itself', 'off', 'only', 'shan', 'were', \"should've\", 'from', 'doesn', 'more', 'than', 'theirs', 'how', 'or', 'above', 'now', \"it's\", 'in', 'if', 'into', 'very', 'am', 'are', 'he', 'until', 'being', \"you've\", 'does', 'most', 'shouldn', 'because', 'ain', 'my', 'do', 'can', 'needn', 'himself', 'for', 'again', 'what', 'wouldn', 'up', 'no', \"isn't\", 've', 'by', 'mightn', 'been', 'an', 'some', 'ma', \"that'll\", 'our', 'yourself', 'against', 'below', 'where', 'so', 'after', 'any', 'each', 'own', 'we', 'will', 're', \"weren't\", 'same', \"won't\", 'your', 'ours', 'other', 'further', 'during', 'themselves', 'doing', 's', 'whom', \"mightn't\", \"shouldn't\", 'when', 'haven', 'under', 'of', 'don', 'have', 'here', 'isn', 'over', 'a', 'but', 'him', 'with', 'the', 'should', 'it', 'both', \"couldn't\", \"aren't\", 'ourselves', 'has', 'hers', 'few', 'd', 'down', 'while', 'hadn', 'having', 'wasn', 'her', 'hasn', \"you'd\", 'at', 'on', 'out', 'yourselves', \"wouldn't\", 'they', 'weren', 'won', 'which', 'then', 'll', 'yours', 'herself', 'once', 'there', \"you're\", 't', 'you', \"hasn't\", 'these', 'their', 'between', \"wasn't\", 'them', 'to', 'such', 'm', 'o', 'y', 'did', 'before', 'just', 'through', 'its', 'she', 'those', 'had', 'too'}\n",
      "179\n"
     ]
    }
   ],
   "source": [
    "from nltk.corpus import stopwords\n",
    "sw = set(stopwords.words('english'))\n",
    "print(sw)\n",
    "print(len(sw))"
   ]
  },
  {
   "cell_type": "markdown",
   "metadata": {},
   "source": [
    "### Filter words from sentence"
   ]
  },
  {
   "cell_type": "code",
   "execution_count": 26,
   "metadata": {},
   "outputs": [
    {
     "name": "stdout",
     "output_type": "stream",
     "text": [
      "['it', 'was', 'a', 'very', 'pleasant', 'day', ',', 'weather', 'was', 'cool', 'and', 'there', 'were', 'light', 'showers', '.']\n",
      "['pleasant', 'day', ',', 'weather', 'cool', 'light', 'showers', '.']\n"
     ]
    }
   ],
   "source": [
    "def filterWords(words):\n",
    "    return [w for w in words if w not in sw]\n",
    "\n",
    "print(words)\n",
    "usefulWords = filterWords(words)\n",
    "print(usefulWords)"
   ]
  },
  {
   "cell_type": "markdown",
   "metadata": {},
   "source": [
    "### Tokenization using Regular Expression\n",
    "- Problem with word tokenizer - Can't handle complex tokenization\n",
    "- So we use Regexp Tokenizer class in NLTK"
   ]
  },
  {
   "cell_type": "code",
   "execution_count": 16,
   "metadata": {},
   "outputs": [],
   "source": [
    "from nltk.tokenize import RegexpTokenizer"
   ]
  },
  {
   "cell_type": "code",
   "execution_count": 18,
   "metadata": {},
   "outputs": [
    {
     "name": "stdout",
     "output_type": "stream",
     "text": [
      "Send all the 50 documents related to clauses 1,2,3 at abc@xyz.com .\n",
      "['Send', 'all', 'the', 'documents', 'related', 'to', 'clauses', 'at', 'abc@xyz', 'com']\n"
     ]
    }
   ],
   "source": [
    "text1 = \"Send all the 50 documents related to clauses 1,2,3 at abc@xyz.com .\"\n",
    "print(text1)\n",
    "regularExp = \"[a-zA-Z@]+\"\n",
    "tokenizer = RegexpTokenizer(regularExp)\n",
    "print(tokenizer.tokenize(text1))"
   ]
  },
  {
   "cell_type": "markdown",
   "metadata": {},
   "source": [
    "### Stemming\n",
    "- Process that transforms particular words(verbs,plurals) into their radical form\n",
    "- Preserves the semantics of the sentence without increasing the number of unique tokens\n",
    "- jumps, jumped, jumping => jump"
   ]
  },
  {
   "cell_type": "code",
   "execution_count": 29,
   "metadata": {},
   "outputs": [
    {
     "name": "stdout",
     "output_type": "stream",
     "text": [
      "['foxes', 'love', 'to', 'make', 'jumps', 'the', 'quick', 'brown', 'fox', 'was', 'seen', 'jumping', 'over', 'the', 'lovely', 'dog', 'from', 'a', 'ft', 'feet', 'high', 'wall']\n"
     ]
    }
   ],
   "source": [
    "text3 = \"Foxes love to make jumps.The quick brown fox was seen jumping over the lovely dog from a 6ft feet high wall\"\n",
    "wordsList = tokenizer.tokenize(text3.lower())\n",
    "print(wordsList)"
   ]
  },
  {
   "cell_type": "code",
   "execution_count": 30,
   "metadata": {},
   "outputs": [
    {
     "name": "stdout",
     "output_type": "stream",
     "text": [
      "['foxes', 'love', 'make', 'jumps', 'quick', 'brown', 'fox', 'seen', 'jumping', 'lovely', 'dog', 'ft', 'feet', 'high', 'wall']\n"
     ]
    }
   ],
   "source": [
    "wordsList = filterWords(wordsList)\n",
    "print(wordsList)"
   ]
  },
  {
   "cell_type": "markdown",
   "metadata": {},
   "source": [
    "### Stemmers\n",
    "- SnowballStemmer (multilingual)\n",
    "- PorterStemmer\n",
    "- LancasterStemmer"
   ]
  },
  {
   "cell_type": "code",
   "execution_count": 32,
   "metadata": {},
   "outputs": [],
   "source": [
    "from nltk.stem import SnowballStemmer, PorterStemmer, LancasterStemmer\n",
    "ss = SnowballStemmer('english')\n",
    "ssFrench = SnowballStemmer('french')\n",
    "ps = PorterStemmer()\n",
    "ls = LancasterStemmer()"
   ]
  },
  {
   "cell_type": "code",
   "execution_count": 33,
   "metadata": {},
   "outputs": [
    {
     "name": "stdout",
     "output_type": "stream",
     "text": [
      "jump\n",
      "jump\n",
      "love\n",
      "awesom\n"
     ]
    }
   ],
   "source": [
    "# PorterStemmer\n",
    "print(ps.stem(\"jumped\"))\n",
    "print(ps.stem(\"jumping\"))\n",
    "print(ps.stem(\"lovely\"))\n",
    "print(ps.stem(\"awesome\"))"
   ]
  },
  {
   "cell_type": "code",
   "execution_count": 34,
   "metadata": {},
   "outputs": [
    {
     "name": "stdout",
     "output_type": "stream",
     "text": [
      "teenag\n",
      "teen\n"
     ]
    }
   ],
   "source": [
    "# LancasterStemmer\n",
    "print(ps.stem(\"teenager\"))\n",
    "print(ls.stem(\"teenager\"))"
   ]
  },
  {
   "cell_type": "code",
   "execution_count": 37,
   "metadata": {},
   "outputs": [
    {
     "name": "stdout",
     "output_type": "stream",
     "text": [
      "love\n",
      "teenag\n",
      "cour\n",
      "cour\n"
     ]
    }
   ],
   "source": [
    "# SnowballStemmer\n",
    "print(ss.stem('lovely'))\n",
    "print(ss.stem('teenager'))\n",
    "# French\n",
    "print(ssFrench.stem('courais'))\n",
    "print(ssFrench.stem('courir'))"
   ]
  },
  {
   "cell_type": "code",
   "execution_count": null,
   "metadata": {},
   "outputs": [],
   "source": []
  }
 ],
 "metadata": {
  "kernelspec": {
   "display_name": "Python 3",
   "language": "python",
   "name": "python3"
  },
  "language_info": {
   "codemirror_mode": {
    "name": "ipython",
    "version": 3
   },
   "file_extension": ".py",
   "mimetype": "text/x-python",
   "name": "python",
   "nbconvert_exporter": "python",
   "pygments_lexer": "ipython3",
   "version": "3.6.7"
  }
 },
 "nbformat": 4,
 "nbformat_minor": 2
}
