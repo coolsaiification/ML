{
 "cells": [
  {
   "cell_type": "markdown",
   "metadata": {},
   "source": [
    "# Locally Weighted Regression\n",
    "1. Read and Normalise the Dataset\n",
    "2. Generate W for every query point!\n",
    "3. No training is involved, directly make predictions using closed form solution we dervied!\n",
    "<br>\n",
    "(X′WX)inv * X′WY where X' is X_Transpose\n",
    "4. Find the best value of Tau(Bandwidth Parameter) [Cross Validation]"
   ]
  },
  {
   "cell_type": "markdown",
   "metadata": {},
   "source": [
    "## 1. Loading Data"
   ]
  },
  {
   "cell_type": "code",
   "execution_count": 2,
   "metadata": {},
   "outputs": [],
   "source": [
    "import numpy as np\n",
    "import pandas as pd\n",
    "import matplotlib.pyplot as plt\n",
    "%matplotlib inline"
   ]
  },
  {
   "cell_type": "code",
   "execution_count": 5,
   "metadata": {},
   "outputs": [
    {
     "name": "stdout",
     "output_type": "stream",
     "text": [
      "(99, 1) (99, 1)\n"
     ]
    }
   ],
   "source": [
    "dfx = pd.read_csv(\"../Datasets/Locally Weighted Regression/weightedX.csv\")\n",
    "dfy = pd.read_csv(\"../Datasets/Locally Weighted Regression/weightedY.csv\")\n",
    "\n",
    "x = dfx.values\n",
    "y = dfy.values\n",
    "\n",
    "print(x.shape, y.shape)"
   ]
  },
  {
   "cell_type": "code",
   "execution_count": 8,
   "metadata": {},
   "outputs": [
    {
     "data": {
      "image/png": "[encoded data removed]",
      "text/plain": [
       "<Figure size 576x396 with 1 Axes>"
      ]
     },
     "metadata": {},
     "output_type": "display_data"
    }
   ],
   "source": [
    "# Normalize the data\n",
    "x = (x-x.mean())/x.std()\n",
    "\n",
    "# Visualize\n",
    "plt.style.use(\"seaborn\")\n",
    "plt.title(\"Normalized Data\")\n",
    "plt.scatter(x,y)\n",
    "plt.show()"
   ]
  },
  {
   "cell_type": "markdown",
   "metadata": {},
   "source": [
    "## 2. Find out W (mxm) diagonal matrix"
   ]
  },
  {
   "cell_type": "markdown",
   "metadata": {},
   "source": [
    "print(type(np.eye(5)))\n",
    "\n",
    "For a,b-->matrices\n",
    "a*b = Matrix Multiplication\n",
    "\n",
    "For a,b-->arrays\n",
    "a*b = Element Wise"
   ]
  },
  {
   "cell_type": "code",
   "execution_count": 17,
   "metadata": {},
   "outputs": [],
   "source": [
    "def getW(query_point, X, tau):\n",
    "    \n",
    "    M = X.shape[0]\n",
    "    W = np.eye(M)\n",
    "    \n",
    "    for i in range(M):\n",
    "        xi = X[i]\n",
    "        W[i][i] = np.exp(-np.dot((xi-query_point),(xi-query_point).T)/(2*tau*tau) )\n",
    "    return W"
   ]
  },
  {
   "cell_type": "code",
   "execution_count": 25,
   "metadata": {},
   "outputs": [
    {
     "name": "stdout",
     "output_type": "stream",
     "text": [
      "[[ 0.81327022  0.          0.         ...,  0.          0.          0.        ]\n",
      " [ 0.          0.98353311  0.         ...,  0.          0.          0.        ]\n",
      " [ 0.          0.          0.81193405 ...,  0.          0.          0.        ]\n",
      " ..., \n",
      " [ 0.          0.          0.         ...,  0.59936711  0.          0.        ]\n",
      " [ 0.          0.          0.         ...,  0.          0.2758226   0.        ]\n",
      " [ 0.          0.          0.         ...,  0.          0.          0.08496804]]\n"
     ]
    }
   ],
   "source": [
    "X = np.mat(x)\n",
    "Y = np.mat(y)\n",
    "M = X.shape[0]\n",
    "\n",
    "# If tau is large, it becomes identity matrix\n",
    "# tau denotes points upto how far must be taken in account\n",
    "W = getW(-1, X, 1)\n",
    "print(W)"
   ]
  },
  {
   "cell_type": "markdown",
   "metadata": {},
   "source": [
    "## 3. Make Predictions"
   ]
  },
  {
   "cell_type": "code",
   "execution_count": 65,
   "metadata": {},
   "outputs": [],
   "source": [
    "def predict(X,Y,query_x,tau):\n",
    "    ones = np.ones((M,1))\n",
    "    X_ = np.hstack((X,ones))\n",
    "    qx = np.mat([query_x,1])\n",
    "    \n",
    "    W = getW(qx,X,tau)\n",
    "    \n",
    "    # (X′WX)inv * X′WY where X' is X_Transpose\n",
    "    theta = np.linalg.pinv(X_.T*(W*X_)) * (X_.T*(W*Y))\n",
    "    pred = np.dot(qx,theta)\n",
    "    return theta,pred"
   ]
  },
  {
   "cell_type": "code",
   "execution_count": 66,
   "metadata": {},
   "outputs": [
    {
     "name": "stdout",
     "output_type": "stream",
     "text": [
      "[[-0.13503432]\n",
      " [ 1.6591292 ]]\n"
     ]
    }
   ],
   "source": [
    "theta,pred = predict(X,Y,1.0,1.0)\n",
    "print(theta)"
   ]
  },
  {
   "cell_type": "code",
   "execution_count": 68,
   "metadata": {},
   "outputs": [
    {
     "name": "stdout",
     "output_type": "stream",
     "text": [
      "[[ 1.52409488]]\n"
     ]
    }
   ],
   "source": [
    "# Predicted value of y for x = 1.0\n",
    "# Correct for this curve\n",
    "print(pred)"
   ]
  },
  {
   "cell_type": "code",
   "execution_count": null,
   "metadata": {},
   "outputs": [],
   "source": []
  }
 ],
 "metadata": {
  "kernelspec": {
   "display_name": "Python 3",
   "language": "python",
   "name": "python3"
  },
  "language_info": {
   "codemirror_mode": {
    "name": "ipython",
    "version": 3
   },
   "file_extension": ".py",
   "mimetype": "text/x-python",
   "name": "python",
   "nbconvert_exporter": "python",
   "pygments_lexer": "ipython3",
   "version": "3.6.7"
  }
 },
 "nbformat": 4,
 "nbformat_minor": 2
}
