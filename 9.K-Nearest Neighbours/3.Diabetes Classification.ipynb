{
 "cells": [
  {
   "cell_type": "markdown",
   "metadata": {},
   "source": [
    "In this problem you are given a Diabetes Data set consisting of following features -\n",
    "\n",
    "['Pregnancies', 'Glucose', 'BloodPressure', 'SkinThickness', 'Insulin', 'BMI', 'DiabetesPedigreeFunction', 'Age', 'Outcome']\n",
    "\n",
    "and your task is to predict whether a person is suffering from diabetes or not (Binary Classification)\n",
    "\n",
    "Tasks\n",
    "\n",
    "1) Plot a bar graph showing number of classes and no of examples in each class.\n",
    "\n",
    "2) Classification Task, classify a person as 0 or 1 (Diabetic or Not) using K-Nearest Neighbors classifier."
   ]
  },
  {
   "cell_type": "markdown",
   "metadata": {},
   "source": [
    "# Using KNN"
   ]
  },
  {
   "cell_type": "code",
   "execution_count": 1,
   "metadata": {},
   "outputs": [],
   "source": [
    "import numpy as np\n",
    "import pandas as pd\n",
    "import matplotlib.pyplot as plt"
   ]
  },
  {
   "cell_type": "code",
   "execution_count": 30,
   "metadata": {},
   "outputs": [
    {
     "name": "stdout",
     "output_type": "stream",
     "text": [
      "(576, 8) (576, 1)\n"
     ]
    }
   ],
   "source": [
    "x = pd.read_csv(\"../Datasets/Diabetes Classification/Diabetes_XTrain.csv\").values\n",
    "y = pd.read_csv(\"../Datasets/Diabetes Classification/Diabetes_YTrain.csv\").values\n",
    "\n",
    "print(x.shape, y.shape)"
   ]
  },
  {
   "cell_type": "code",
   "execution_count": 31,
   "metadata": {},
   "outputs": [],
   "source": [
    "def dist(x1,x2):\n",
    "    return np.sqrt(sum((x1-x2)**2))\n",
    "\n",
    "def knn(x,y,query_point, k=5):\n",
    "    vals = []\n",
    "    for i in range(x.shape[0]):\n",
    "        vals.append((dist(x[i],query_point),y[i]))\n",
    "    vals = sorted(vals)\n",
    "    vals = vals[:k]\n",
    "    vals = np.array(vals)\n",
    "    \n",
    "    n_vals = np.unique(vals[:,1], return_counts=True)\n",
    "    index = n_vals[1].argmax()\n",
    "    pred = n_vals[0][index]\n",
    "    return int(pred)"
   ]
  },
  {
   "cell_type": "code",
   "execution_count": 32,
   "metadata": {},
   "outputs": [
    {
     "name": "stdout",
     "output_type": "stream",
     "text": [
      "     Outcome\n",
      "0          0\n",
      "1          0\n",
      "2          0\n",
      "3          0\n",
      "4          0\n",
      "5          0\n",
      "6          1\n",
      "7          0\n",
      "8          0\n",
      "9          0\n",
      "10         1\n",
      "11         0\n",
      "12         1\n",
      "13         0\n",
      "14         0\n",
      "15         0\n",
      "16         0\n",
      "17         1\n",
      "18         1\n",
      "19         1\n",
      "20         0\n",
      "21         0\n",
      "22         1\n",
      "23         1\n",
      "24         0\n",
      "25         0\n",
      "26         0\n",
      "27         0\n",
      "28         0\n",
      "29         0\n",
      "..       ...\n",
      "162        0\n",
      "163        0\n",
      "164        0\n",
      "165        0\n",
      "166        0\n",
      "167        0\n",
      "168        0\n",
      "169        0\n",
      "170        0\n",
      "171        0\n",
      "172        0\n",
      "173        1\n",
      "174        0\n",
      "175        0\n",
      "176        0\n",
      "177        0\n",
      "178        0\n",
      "179        1\n",
      "180        0\n",
      "181        0\n",
      "182        1\n",
      "183        0\n",
      "184        1\n",
      "185        0\n",
      "186        0\n",
      "187        0\n",
      "188        0\n",
      "189        1\n",
      "190        0\n",
      "191        0\n",
      "\n",
      "[192 rows x 1 columns]\n"
     ]
    }
   ],
   "source": [
    "xTest = pd.read_csv(\"../Datasets/Diabetes Classification/Diabetes_Xtest.csv\").values\n",
    "yTest = []\n",
    "for i in range(xTest.shape[0]):\n",
    "    yTest.append(knn(x,y,xTest[i],k=15))\n",
    "pd.DataFrame(yTest).to_csv(\"../Datasets/Diabetes Classification/Diabetes_YTest.csv\", index= False)\n",
    "yTestDF = pd.read_csv(\"../Datasets/Diabetes Classification/Diabetes_YTest.csv\")\n",
    "yTestDF.columns = ['Outcome']\n",
    "yTestDF.to_csv(\"../Datasets/Diabetes Classification/Diabetes_YTest.csv\", index= False)\n",
    "yTestDF = pd.read_csv(\"../Datasets/Diabetes Classification/Diabetes_YTest.csv\")\n",
    "print(yTestDF)"
   ]
  },
  {
   "cell_type": "code",
   "execution_count": null,
   "metadata": {},
   "outputs": [],
   "source": []
  }
 ],
 "metadata": {
  "kernelspec": {
   "display_name": "Python 3",
   "language": "python",
   "name": "python3"
  },
  "language_info": {
   "codemirror_mode": {
    "name": "ipython",
    "version": 3
   },
   "file_extension": ".py",
   "mimetype": "text/x-python",
   "name": "python",
   "nbconvert_exporter": "python",
   "pygments_lexer": "ipython3",
   "version": "3.6.7"
  }
 },
 "nbformat": 4,
 "nbformat_minor": 2
}
