{
 "cells": [
  {
   "cell_type": "markdown",
   "metadata": {},
   "source": [
    "# Linear Regression on Boston Dataset ( Multivariate case using SkLearn)"
   ]
  },
  {
   "cell_type": "code",
   "execution_count": 3,
   "metadata": {},
   "outputs": [],
   "source": [
    "from sklearn.datasets import load_boston\n",
    "boston = load_boston()"
   ]
  },
  {
   "cell_type": "code",
   "execution_count": 4,
   "metadata": {},
   "outputs": [
    {
     "name": "stdout",
     "output_type": "stream",
     "text": [
      "(506, 13) (506,)\n"
     ]
    }
   ],
   "source": [
    "X = boston.data\n",
    "Y = boston.target\n",
    "\n",
    "print(X.shape, Y.shape)"
   ]
  },
  {
   "cell_type": "code",
   "execution_count": 5,
   "metadata": {},
   "outputs": [],
   "source": [
    "from sklearn.linear_model import LinearRegression\n",
    "from sklearn.model_selection import train_test_split"
   ]
  },
  {
   "cell_type": "code",
   "execution_count": 6,
   "metadata": {},
   "outputs": [
    {
     "name": "stdout",
     "output_type": "stream",
     "text": [
      "(404, 13) (102, 13)\n"
     ]
    }
   ],
   "source": [
    "X_train, X_test, Y_train, Y_test = train_test_split(X,Y,test_size=0.2)\n",
    "print(X_train.shape, X_test.shape)"
   ]
  },
  {
   "cell_type": "markdown",
   "metadata": {},
   "source": [
    "## Train our Linear Regression Model"
   ]
  },
  {
   "cell_type": "code",
   "execution_count": 7,
   "metadata": {},
   "outputs": [
    {
     "name": "stdout",
     "output_type": "stream",
     "text": [
      "[ -1.25689624e-01   4.99393055e-02   4.13573829e-02   2.41666094e+00\n",
      "  -1.85728211e+01   3.60521707e+00   1.15158389e-02  -1.43425222e+00\n",
      "   3.34377465e-01  -1.34148371e-02  -1.00582966e+00   7.46008668e-03\n",
      "  -5.45991799e-01]\n",
      "39.2450645985\n"
     ]
    }
   ],
   "source": [
    "# 1. Create an Object\n",
    "lr = LinearRegression(normalize=True)\n",
    "\n",
    "# 2. Train the model\n",
    "lr.fit(X_train, Y_train)\n",
    "\n",
    "# 3. Output parameters\n",
    "print(lr.coef_)\n",
    "print(lr.intercept_)"
   ]
  },
  {
   "cell_type": "markdown",
   "metadata": {},
   "source": [
    "## Accuracy of Regression\n",
    "Score gives coefficient of determination"
   ]
  },
  {
   "cell_type": "code",
   "execution_count": 8,
   "metadata": {},
   "outputs": [
    {
     "name": "stdout",
     "output_type": "stream",
     "text": [
      "Training score = 0.7317\n",
      "Testing score = 0.7661\n"
     ]
    }
   ],
   "source": [
    "print(\"Training score = %.4f\"%lr.score(X_train,Y_train))\n",
    "print(\"Testing score = %.4f\"%lr.score(X_test,Y_test))"
   ]
  },
  {
   "cell_type": "markdown",
   "metadata": {},
   "source": [
    "## Cross Validation"
   ]
  },
  {
   "cell_type": "code",
   "execution_count": 9,
   "metadata": {},
   "outputs": [],
   "source": [
    "from sklearn.model_selection import cross_val_score"
   ]
  },
  {
   "cell_type": "code",
   "execution_count": 12,
   "metadata": {},
   "outputs": [
    {
     "name": "stdout",
     "output_type": "stream",
     "text": [
      "[ 0.42259484  0.76110381  0.82168215  0.71255326  0.76110228  0.64092741\n",
      "  0.72018849  0.706875    0.70035213  0.75544176]\n",
      "0.700282111819\n",
      "0.103151562161\n"
     ]
    }
   ],
   "source": [
    "# Folds cv = 10\n",
    "# r2 = Coeff of determination\n",
    "scores = cross_val_score(lr, X_train, Y_train, cv=10, scoring='r2')\n",
    "print(scores)\n",
    "print(scores.mean())\n",
    "print(scores.std())"
   ]
  },
  {
   "cell_type": "code",
   "execution_count": 13,
   "metadata": {},
   "outputs": [
    {
     "name": "stdout",
     "output_type": "stream",
     "text": [
      "[-51.79994131 -21.95316737 -17.24259583 -22.37822257 -14.37924022\n",
      " -32.90429944 -23.21281142 -20.20213812 -38.36241702 -13.67795766]\n",
      "-25.6112790952\n",
      "11.3976721271\n"
     ]
    }
   ],
   "source": [
    "scores = cross_val_score(lr, X_train, Y_train, cv=10, scoring='neg_mean_squared_error')\n",
    "print(scores)\n",
    "print(scores.mean())\n",
    "print(scores.std())"
   ]
  },
  {
   "cell_type": "code",
   "execution_count": null,
   "metadata": {},
   "outputs": [],
   "source": []
  }
 ],
 "metadata": {
  "kernelspec": {
   "display_name": "Python 3",
   "language": "python",
   "name": "python3"
  },
  "language_info": {
   "codemirror_mode": {
    "name": "ipython",
    "version": 3
   },
   "file_extension": ".py",
   "mimetype": "text/x-python",
   "name": "python",
   "nbconvert_exporter": "python",
   "pygments_lexer": "ipython3",
   "version": "3.6.7"
  }
 },
 "nbformat": 4,
 "nbformat_minor": 2
}
