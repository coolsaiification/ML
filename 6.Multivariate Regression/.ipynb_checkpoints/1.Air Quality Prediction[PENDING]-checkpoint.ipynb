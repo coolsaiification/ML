{
 "cells": [
  {
   "cell_type": "markdown",
   "metadata": {},
   "source": [
    "# Implementation without SKLearn"
   ]
  },
  {
   "cell_type": "code",
   "execution_count": 1,
   "metadata": {},
   "outputs": [],
   "source": [
    "import numpy as np\n",
    "import pandas as pd\n",
    "import matplotlib.pyplot as plt"
   ]
  },
  {
   "cell_type": "code",
   "execution_count": 11,
   "metadata": {},
   "outputs": [
    {
     "name": "stdout",
     "output_type": "stream",
     "text": [
      "[ 1.          0.29341624 -0.94559871 -0.42110515  0.40681602  0.52566183]\n",
      "-82.1546665556\n"
     ]
    }
   ],
   "source": [
    "data = pd.read_csv('../Datasets/air-quality-prediction/Train.csv').values\n",
    "x = data[:,:5]\n",
    "X = np.zeros((x.shape[0],x.shape[1]+1))\n",
    "for i in range(x.shape[0]):\n",
    "    X[i] = np.insert(x[i],0,1)\n",
    "y = data[:,-1]\n",
    "print(X[0])\n",
    "print(y[0])"
   ]
  },
  {
   "cell_type": "code",
   "execution_count": 22,
   "metadata": {},
   "outputs": [],
   "source": [
    "def hypotheses(x,theta):\n",
    "    return np.dot(theta,x)\n",
    "\n",
    "def error(X,Y,theta):\n",
    "    err = 0\n",
    "    for i in range(X.shape[0]):\n",
    "        err += (hypotheses(X[i],theta)-Y[i])**2\n",
    "    return err\n",
    "\n",
    "def gradient(X,Y,theta):\n",
    "    grad = np.zeros((X.shape[1],))\n",
    "    for i in range(X.shape[0]):\n",
    "        grad += (hypotheses(X[i],theta)-Y[i])*X[i]\n",
    "    return grad\n",
    "    \n",
    "def gradientDescent(X,Y,maxItr=100,learningRate=0.01):\n",
    "    theta = np.zeros((X.shape[1],))\n",
    "    error_list = []\n",
    "    while maxItr:\n",
    "        error_list.append(error(X,Y,theta))\n",
    "        theta -= learningRate*gradient(X,Y,theta)\n",
    "        maxItr -= 1\n",
    "    return theta,error_list"
   ]
  },
  {
   "cell_type": "code",
   "execution_count": 15,
   "metadata": {},
   "outputs": [],
   "source": [
    "theta,error_list = gradientDescent(X,y,maxItr=1000,learningRate=0.0001)"
   ]
  },
  {
   "cell_type": "code",
   "execution_count": 16,
   "metadata": {},
   "outputs": [
    {
     "data": {
      "image/png": "[encoded data removed]",
      "text/plain": [
       "<Figure size 432x288 with 1 Axes>"
      ]
     },
     "metadata": {
      "needs_background": "light"
     },
     "output_type": "display_data"
    }
   ],
   "source": [
    "plt.plot(error_list)\n",
    "plt.show()"
   ]
  },
  {
   "cell_type": "code",
   "execution_count": 30,
   "metadata": {},
   "outputs": [
    {
     "name": "stdout",
     "output_type": "stream",
     "text": [
      "400.91751474\n"
     ]
    }
   ],
   "source": [
    "data = pd.read_csv('../Datasets/air-quality-prediction/Test.csv').values\n",
    "xT = data[:,:5]\n",
    "XT = np.zeros((xT.shape[0],xT.shape[1]+1))\n",
    "for i in range(xT.shape[0]):\n",
    "    XT[i] = np.insert(xT[i],0,1)\n",
    "yT = data[:,-1]\n",
    "yHyp = np.zeros((yT.shape[0],))\n",
    "for i in range(XT.shape[0]):\n",
    "    yHyp[i] = hypotheses(XT[i],theta)\n",
    "err = error(XT,yT,theta)\n",
    "print(err/XT.shape[0])"
   ]
  },
  {
   "cell_type": "code",
   "execution_count": null,
   "metadata": {},
   "outputs": [],
   "source": []
  }
 ],
 "metadata": {
  "kernelspec": {
   "display_name": "Python 3",
   "language": "python",
   "name": "python3"
  },
  "language_info": {
   "codemirror_mode": {
    "name": "ipython",
    "version": 3
   },
   "file_extension": ".py",
   "mimetype": "text/x-python",
   "name": "python",
   "nbconvert_exporter": "python",
   "pygments_lexer": "ipython3",
   "version": "3.6.7"
  }
 },
 "nbformat": 4,
 "nbformat_minor": 2
}
