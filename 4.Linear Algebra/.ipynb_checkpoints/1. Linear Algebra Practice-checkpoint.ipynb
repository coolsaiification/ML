{
 "cells": [
  {
   "cell_type": "markdown",
   "metadata": {},
   "source": [
    "# Linear Algebra\n",
    "Using numpy"
   ]
  },
  {
   "cell_type": "markdown",
   "metadata": {},
   "source": [
    "## 1. Scalars and Vectors\n",
    "- __Scalar__ : is a single number\n",
    "- __Vector__ : is an array of scalars"
   ]
  },
  {
   "cell_type": "code",
   "execution_count": 6,
   "metadata": {},
   "outputs": [],
   "source": [
    "import numpy as np"
   ]
  },
  {
   "cell_type": "code",
   "execution_count": 3,
   "metadata": {},
   "outputs": [
    {
     "name": "stdout",
     "output_type": "stream",
     "text": [
      "[4 5 6]\n",
      "(3,)\n",
      "4\n"
     ]
    }
   ],
   "source": [
    "x1 = np.array([4,5,6])\n",
    "print(x1)\n",
    "print(x1.shape)\n",
    "print(x1[0])"
   ]
  },
  {
   "cell_type": "code",
   "execution_count": 4,
   "metadata": {},
   "outputs": [
    {
     "name": "stdout",
     "output_type": "stream",
     "text": [
      "[[4]\n",
      " [5]\n",
      " [6]]\n",
      "(3, 1)\n",
      "4\n"
     ]
    }
   ],
   "source": [
    "# Vector as column\n",
    "x2 = np.array([[4],[5],[6]])\n",
    "print(x2)\n",
    "print(x2.shape)\n",
    "print(x2[0][0])"
   ]
  },
  {
   "cell_type": "code",
   "execution_count": 6,
   "metadata": {},
   "outputs": [
    {
     "name": "stdout",
     "output_type": "stream",
     "text": [
      "[[4 5]\n",
      " [6 7]]\n",
      "(2, 2)\n"
     ]
    }
   ],
   "source": [
    "x3 = np.array([[4],[5],[6],[7]])\n",
    "x = x3.reshape((-1,2))\n",
    "print(x)\n",
    "print(x.shape)"
   ]
  },
  {
   "cell_type": "markdown",
   "metadata": {},
   "source": [
    "## 2. Matrices and Tensors\n",
    "- __Matrix__ : is a 2D array of scalars\n",
    "- __Tensor__ : is an array with __more than 2__ axes"
   ]
  },
  {
   "cell_type": "code",
   "execution_count": 9,
   "metadata": {},
   "outputs": [
    {
     "name": "stdout",
     "output_type": "stream",
     "text": [
      "[[ 4  5  6]\n",
      " [10 11 12]\n",
      " [15 16 17]]\n",
      "(3, 3)\n",
      "11\n",
      "[[4 5 6]\n",
      " [2 2 2]\n",
      " [2 2 2]]\n"
     ]
    }
   ],
   "source": [
    "# Matrix\n",
    "X = np.array([[4,5,6],[10,11,12],[15,16,17]])\n",
    "print(X)\n",
    "print(X.shape)\n",
    "print(X[1][1])\n",
    "X[1:, :] = 2\n",
    "print(X)"
   ]
  },
  {
   "cell_type": "code",
   "execution_count": 10,
   "metadata": {},
   "outputs": [
    {
     "name": "stdout",
     "output_type": "stream",
     "text": [
      "[[[ 4  5  6]\n",
      "  [10 11 12]]\n",
      "\n",
      " [[ 1  2  0]\n",
      "  [15 16 17]]]\n",
      "(2, 2, 3)\n"
     ]
    }
   ],
   "source": [
    "# Tensor\n",
    "X = np.array([[[4,5,6],[10,11,12]],[[1,2,0],[15,16,17]]])\n",
    "print(X)\n",
    "print(X.shape)"
   ]
  },
  {
   "cell_type": "markdown",
   "metadata": {},
   "source": [
    "## 3. Transpose\n",
    "![Transpose](https://wikimedia.org/api/rest_v1/media/math/render/svg/9b0864ad54decb7f1b251512de895b40545facf5)"
   ]
  },
  {
   "cell_type": "code",
   "execution_count": 18,
   "metadata": {},
   "outputs": [
    {
     "name": "stdout",
     "output_type": "stream",
     "text": [
      "[[4 5]\n",
      " [6 7]]\n",
      "[[4 6]\n",
      " [5 7]]\n"
     ]
    }
   ],
   "source": [
    "print(x)\n",
    "xt = np.transpose(x)\n",
    "print(xt)"
   ]
  },
  {
   "cell_type": "code",
   "execution_count": 21,
   "metadata": {},
   "outputs": [
    {
     "name": "stdout",
     "output_type": "stream",
     "text": [
      "[[4]\n",
      " [5]\n",
      " [6]\n",
      " [7]]\n",
      "(4, 1)\n",
      "[[4 5 6 7]]\n",
      "(1, 4)\n"
     ]
    }
   ],
   "source": [
    "y = x.reshape((-1,1))\n",
    "print(y)\n",
    "print(y.shape)\n",
    "y = np.transpose(y)\n",
    "print(y)\n",
    "print(y.shape)"
   ]
  },
  {
   "cell_type": "markdown",
   "metadata": {},
   "source": [
    "## 4. Broadcasting\n",
    "- Add scalar to numpy array\n",
    "- Add vector to matrix(adds vector to each column of matrix)"
   ]
  },
  {
   "cell_type": "code",
   "execution_count": 28,
   "metadata": {},
   "outputs": [
    {
     "name": "stdout",
     "output_type": "stream",
     "text": [
      "[2 3 4 5]\n",
      "[ 5 10 17 26]\n",
      "[ 2.23606798  3.16227766  4.12310563  5.09901951]\n"
     ]
    }
   ],
   "source": [
    "l = [1,2,3,4]\n",
    "# Gives error\n",
    "# l = l+1\n",
    "l = np.array(l)\n",
    "l = l+1\n",
    "print(l)\n",
    "l = l**2 + 1\n",
    "print(l)\n",
    "print(np.sqrt(l))"
   ]
  },
  {
   "cell_type": "code",
   "execution_count": 29,
   "metadata": {},
   "outputs": [
    {
     "name": "stdout",
     "output_type": "stream",
     "text": [
      "[[1 3 5]\n",
      " [4 6 8]]\n"
     ]
    }
   ],
   "source": [
    "l2 = np.array([[1,2,3],[4,5,6]])\n",
    "l2 += [0,1,2]\n",
    "print(l2)"
   ]
  },
  {
   "cell_type": "markdown",
   "metadata": {},
   "source": [
    "## 5. Matrix Multiplication\n",
    "![Matrix Multiplication](https://wikimedia.org/api/rest_v1/media/math/render/svg/3cfeccef1c8c7e6da0ddf08daed8dbf3c6f50c5e)\n",
    "![Matrix Multiplication Linear Combination](https://lh5.googleusercontent.com/proxy/DfkuHP_L81Bz0LZ-6G6YOC8lbUGe943MAlG49ST5xvzvXY63ViEHR4PWOKHwF0RSHgAOMeE462BuHWRqM2n4MrPjdc4=w506-h303-p)\n"
   ]
  },
  {
   "cell_type": "code",
   "execution_count": 3,
   "metadata": {},
   "outputs": [
    {
     "name": "stdout",
     "output_type": "stream",
     "text": [
      "[[1400 1783 1837]\n",
      " [2990 3787 3937]\n",
      " [4315 5457 5687]]\n"
     ]
    }
   ],
   "source": [
    "X = np.array([[4,5,6],[10,11,12],[15,16,17]])\n",
    "Y = np.array([[40,50,70],[110,121,123],[115,163,157]])\n",
    "prod = np.dot(X,Y)\n",
    "print(prod)"
   ]
  },
  {
   "cell_type": "markdown",
   "metadata": {},
   "source": [
    "## 6. Element Wise Multiplication: Hadamard product"
   ]
  },
  {
   "cell_type": "code",
   "execution_count": 5,
   "metadata": {},
   "outputs": [
    {
     "name": "stdout",
     "output_type": "stream",
     "text": [
      "[[ 4 10 18]\n",
      " [20 33 48]\n",
      " [75 64 51]]\n"
     ]
    }
   ],
   "source": [
    "X = np.array([[4,5,6],[10,11,12],[15,16,17]])\n",
    "Y = np.array([[1,2,3],[2,3,4],[5,4,3]])\n",
    "prod = X*Y\n",
    "# prod[i][j] = X[i][j] * Y[i][j] \n",
    "print(prod)"
   ]
  },
  {
   "cell_type": "markdown",
   "metadata": {},
   "source": [
    "## 7. Norm\n",
    "- Thought as proxy for size of vector.\n",
    "![Norm](http://slideplayer.com/slide/6132850/18/images/1/Vector+Norms+DEF%3A+A+norm+is+a+function+that+satisfies.jpg)"
   ]
  },
  {
   "cell_type": "code",
   "execution_count": 7,
   "metadata": {},
   "outputs": [],
   "source": [
    "x = np.array([-5,3,10])"
   ]
  },
  {
   "cell_type": "code",
   "execution_count": 8,
   "metadata": {},
   "outputs": [
    {
     "name": "stdout",
     "output_type": "stream",
     "text": [
      "11.5758369028\n"
     ]
    }
   ],
   "source": [
    "lp2 = np.linalg.norm(x)\n",
    "print(lp2)"
   ]
  },
  {
   "cell_type": "code",
   "execution_count": 10,
   "metadata": {},
   "outputs": [
    {
     "name": "stdout",
     "output_type": "stream",
     "text": [
      "18.0\n"
     ]
    }
   ],
   "source": [
    "lp1 = np.linalg.norm(x, ord=1)\n",
    "print(lp1)"
   ]
  },
  {
   "cell_type": "code",
   "execution_count": 11,
   "metadata": {},
   "outputs": [
    {
     "name": "stdout",
     "output_type": "stream",
     "text": [
      "10.0\n"
     ]
    }
   ],
   "source": [
    "lpinf = np.linalg.norm(x, ord=np.inf)\n",
    "print(lpinf)"
   ]
  },
  {
   "cell_type": "code",
   "execution_count": null,
   "metadata": {},
   "outputs": [],
   "source": []
  }
 ],
 "metadata": {
  "kernelspec": {
   "display_name": "Python 3",
   "language": "python",
   "name": "python3"
  },
  "language_info": {
   "codemirror_mode": {
    "name": "ipython",
    "version": 3
   },
   "file_extension": ".py",
   "mimetype": "text/x-python",
   "name": "python",
   "nbconvert_exporter": "python",
   "pygments_lexer": "ipython3",
   "version": "3.6.7"
  }
 },
 "nbformat": 4,
 "nbformat_minor": 2
}
