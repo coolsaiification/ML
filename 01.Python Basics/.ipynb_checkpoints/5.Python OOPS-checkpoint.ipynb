{
 "cells": [
  {
   "cell_type": "markdown",
   "metadata": {},
   "source": [
    "# OOPS"
   ]
  },
  {
   "cell_type": "code",
   "execution_count": 1,
   "metadata": {},
   "outputs": [
    {
     "name": "stdout",
     "output_type": "stream",
     "text": [
      "<class '__main__.A'>\n",
      "<class 'type'>\n"
     ]
    }
   ],
   "source": [
    "# Minimalistic class\n",
    "class A():\n",
    "    pass\n",
    "print(A)\n",
    "print(type(A))"
   ]
  },
  {
   "cell_type": "code",
   "execution_count": 9,
   "metadata": {},
   "outputs": [
    {
     "name": "stdout",
     "output_type": "stream",
     "text": [
      "Golden Retriever\n",
      "['Jump', 'Sit']\n",
      "Secret Activity\n",
      "Pug\n",
      "['Sleep', 'Roll']\n",
      "Secret Activity\n"
     ]
    }
   ],
   "source": [
    "class Dog():\n",
    "    # Class variable. Same for all instances.\n",
    "    color = \"Brown\"\n",
    "    \n",
    "    def __init__(self,breed):\n",
    "        # Instance variables. Different for each instance.\n",
    "        \"\"\"Initialized dog with breed and activities\"\"\"\n",
    "        self.activities = []\n",
    "        self.breed = breed\n",
    "        \n",
    "    # __ makes the method private. Can be accessed only through class methods.\n",
    "    def __secretActivity(self):\n",
    "        print(\"Secret Activity\")\n",
    "    \n",
    "    def addActivity(self,activity):\n",
    "        self.activities.append(activity)\n",
    "    \n",
    "    def doActivities(self):\n",
    "        \"\"\"Perform all activities\"\"\"\n",
    "        print(self.breed)\n",
    "        print(self.activities)\n",
    "        self.__secretActivity()\n",
    "\n",
    "d1 = Dog(\"Golden Retriever\")\n",
    "d1.addActivity(\"Jump\")\n",
    "d1.addActivity(\"Sit\")\n",
    "\n",
    "d2 = Dog(\"Pug\")\n",
    "d2.addActivity(\"Sleep\")\n",
    "d2.addActivity(\"Roll\")\n",
    "\n",
    "d1.doActivities()\n",
    "d2.doActivities()\n",
    "\n",
    "Dog?\n",
    "d2.doActivities?"
   ]
  },
  {
   "cell_type": "markdown",
   "metadata": {},
   "source": [
    "## Inheritance"
   ]
  },
  {
   "cell_type": "code",
   "execution_count": 15,
   "metadata": {},
   "outputs": [
    {
     "name": "stdout",
     "output_type": "stream",
     "text": [
      "School Member init of Kohli\n",
      "Teacher init of Kohli\n",
      "Name: Kohli \n",
      "Age: 50\n",
      "Salary: 50000\n",
      "School Member init of Sai\n",
      "Student init of Sai\n",
      "Name: Sai \n",
      "Age: 21\n",
      "Marks: 100000\n"
     ]
    }
   ],
   "source": [
    "class SchoolMember():\n",
    "    \n",
    "    def __init__(self, name, age):\n",
    "        self.name = name\n",
    "        self.age = age\n",
    "        print(\"School Member init of %s\"%name)\n",
    "    \n",
    "    def introduce(self):\n",
    "        print(\"Name: %s \\nAge: %d\"%(self.name,self.age));\n",
    "        \n",
    "class Teacher(SchoolMember):\n",
    "    '''Represents school teacher'''\n",
    "    def __init__(self, name, age, salary):\n",
    "        SchoolMember.__init__(self, name, age)\n",
    "        self.salary = salary\n",
    "        print(\"Teacher init of %s\"%name)\n",
    "        \n",
    "    def introduce(self):\n",
    "        SchoolMember.introduce(self)\n",
    "        print(\"Salary: %d\"%self.salary)\n",
    "        \n",
    "class Student(SchoolMember):\n",
    "    '''Represents school student'''\n",
    "    def __init__(self, name, age, marks):\n",
    "        SchoolMember.__init__(self, name, age)\n",
    "        self.marks = marks\n",
    "        print(\"Student init of %s\"%name)\n",
    "        \n",
    "    def introduce(self):\n",
    "        SchoolMember.introduce(self)\n",
    "        print(\"Marks: %d\"%self.marks)\n",
    "        \n",
    "t = Teacher(\"Kohli\", 50, 50000)\n",
    "t.introduce()\n",
    "\n",
    "s = Student(\"Sai\", 21, 100000)\n",
    "s.introduce()"
   ]
  },
  {
   "cell_type": "code",
   "execution_count": null,
   "metadata": {},
   "outputs": [],
   "source": []
  }
 ],
 "metadata": {
  "kernelspec": {
   "display_name": "Python 3",
   "language": "python",
   "name": "python3"
  },
  "language_info": {
   "codemirror_mode": {
    "name": "ipython",
    "version": 3
   },
   "file_extension": ".py",
   "mimetype": "text/x-python",
   "name": "python",
   "nbconvert_exporter": "python",
   "pygments_lexer": "ipython3",
   "version": "3.6.7"
  }
 },
 "nbformat": 4,
 "nbformat_minor": 2
}
