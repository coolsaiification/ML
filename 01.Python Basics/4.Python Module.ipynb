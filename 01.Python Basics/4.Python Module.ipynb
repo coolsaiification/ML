{
 "cells": [
  {
   "cell_type": "markdown",
   "metadata": {},
   "source": [
    "# Module"
   ]
  },
  {
   "cell_type": "markdown",
   "metadata": {},
   "source": [
    "## math module"
   ]
  },
  {
   "cell_type": "code",
   "execution_count": 7,
   "metadata": {},
   "outputs": [
    {
     "name": "stdout",
     "output_type": "stream",
     "text": [
      "2.718281828459045\n",
      "3.141592653589793\n",
      "inf\n",
      "7\n",
      "1.0\n",
      "2.0\n",
      "15\n",
      "5\n"
     ]
    }
   ],
   "source": [
    "import math\n",
    "print(math.e)\n",
    "print(math.pi)\n",
    "print(math.inf)\n",
    "print(math.floor(15/2))\n",
    "print(math.log(math.e))\n",
    "print(math.log(16,4))\n",
    "print(sum([1,2,3,4,5]))\n",
    "print(max([1,2,5,2,3]))"
   ]
  },
  {
   "cell_type": "code",
   "execution_count": 10,
   "metadata": {},
   "outputs": [
    {
     "name": "stdout",
     "output_type": "stream",
     "text": [
      "3.0\n",
      "120\n"
     ]
    }
   ],
   "source": [
    "from math import log,factorial\n",
    "print(log(8,2))\n",
    "print(factorial(5))"
   ]
  },
  {
   "cell_type": "code",
   "execution_count": 9,
   "metadata": {},
   "outputs": [
    {
     "name": "stdout",
     "output_type": "stream",
     "text": [
      "2\n"
     ]
    }
   ],
   "source": [
    "from math import floor as fl\n",
    "print(fl(2.3))"
   ]
  },
  {
   "cell_type": "markdown",
   "metadata": {},
   "source": [
    "## sys module"
   ]
  },
  {
   "cell_type": "code",
   "execution_count": 23,
   "metadata": {},
   "outputs": [
    {
     "name": "stdout",
     "output_type": "stream",
     "text": [
      "['/usr/local/lib/python3.6/dist-packages/ipykernel_launcher.py', '-f', '/run/user/1000/jupyter/kernel-c3f26321-f07a-4bb0-8a7e-7c74a126920e.json']\n",
      "-f\n",
      "9223372036854775807\n",
      "3.6.7 (default, Oct 22 2018, 11:32:17) \n",
      "[GCC 8.2.0]\n",
      "['/usr/lib/python36.zip', '/usr/lib/python3.6', '/usr/lib/python3.6/lib-dynload', '', '/home/sai/.local/lib/python3.6/site-packages', '/usr/local/lib/python3.6/dist-packages', '/usr/lib/python3/dist-packages', '/usr/local/lib/python3.6/dist-packages/IPython/extensions', '/home/sai/.ipython']\n",
      "\n",
      "<_io.TextIOWrapper name='<stdin>' mode='r' encoding='UTF-8'>\n",
      "<class '_io.TextIOWrapper'>\n",
      "<ipykernel.iostream.OutStream object at 0x7f78ffa1dda0>\n",
      "<class 'ipykernel.iostream.OutStream'>\n"
     ]
    }
   ],
   "source": [
    "import sys\n",
    "print(sys.argv)\n",
    "print(sys.argv[1])\n",
    "print(sys.maxsize)\n",
    "print(sys.version)\n",
    "# Interpreter searches for packages in these paths\n",
    "print(sys.path)\n",
    "print()\n",
    "print(sys.stdin)\n",
    "print(type(sys.stdin))\n",
    "print(sys.stderr)\n",
    "print(type(sys.stderr))\n"
   ]
  },
  {
   "cell_type": "markdown",
   "metadata": {},
   "source": [
    "## Create module and import\n",
    "- Create python file myModule.py and add data and functions\n",
    "- Import module in other file\n",
    "- import module\n",
    "- from module import *"
   ]
  },
  {
   "cell_type": "markdown",
   "metadata": {},
   "source": [
    "## Module name, main\n",
    "- Executing module name = \\_\\_main\\_\\_\n",
    "- Imported module name = File name"
   ]
  },
  {
   "cell_type": "code",
   "execution_count": 25,
   "metadata": {},
   "outputs": [
    {
     "name": "stdout",
     "output_type": "stream",
     "text": [
      "Module name is __main__\n",
      "Executed module\n"
     ]
    }
   ],
   "source": [
    "print(\"Module name is %s\"%(__name__))\n",
    "if __name__ == \"__main__\":\n",
    "    print(\"Executed module\")\n",
    "else:\n",
    "    print(\"Imported module\")"
   ]
  },
  {
   "cell_type": "code",
   "execution_count": null,
   "metadata": {},
   "outputs": [],
   "source": []
  }
 ],
 "metadata": {
  "kernelspec": {
   "display_name": "Python 3",
   "language": "python",
   "name": "python3"
  },
  "language_info": {
   "codemirror_mode": {
    "name": "ipython",
    "version": 3
   },
   "file_extension": ".py",
   "mimetype": "text/x-python",
   "name": "python",
   "nbconvert_exporter": "python",
   "pygments_lexer": "ipython3",
   "version": "3.6.7"
  }
 },
 "nbformat": 4,
 "nbformat_minor": 2
}
