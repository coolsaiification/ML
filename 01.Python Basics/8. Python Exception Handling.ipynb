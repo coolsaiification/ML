{
 "cells": [
  {
   "cell_type": "markdown",
   "metadata": {},
   "source": [
    "# Exception Handling"
   ]
  },
  {
   "cell_type": "code",
   "execution_count": 2,
   "metadata": {},
   "outputs": [
    {
     "name": "stdout",
     "output_type": "stream",
     "text": [
      "File not found\n"
     ]
    }
   ],
   "source": [
    "try:\n",
    "    f = open(\"someMissingFile\", 'r')\n",
    "except FileNotFoundError:\n",
    "    print(\"File not found\")\n",
    "except Exception:\n",
    "    print(\"Generic exception\")"
   ]
  },
  {
   "cell_type": "code",
   "execution_count": 4,
   "metadata": {},
   "outputs": [
    {
     "name": "stdout",
     "output_type": "stream",
     "text": [
      "b is not defined\n"
     ]
    }
   ],
   "source": [
    "try:\n",
    "    a = b\n",
    "except NameError:\n",
    "    print(\"b is not defined\")\n",
    "except Exception:\n",
    "    print(\"Generic exception\")"
   ]
  },
  {
   "cell_type": "code",
   "execution_count": 7,
   "metadata": {},
   "outputs": [
    {
     "name": "stdout",
     "output_type": "stream",
     "text": [
      "A\n",
      "Please enter a valid name\n",
      "It is always there\n"
     ]
    }
   ],
   "source": [
    "try:\n",
    "    name = input()\n",
    "    if(len(name)<3):\n",
    "        raise Exception\n",
    "except NameError:\n",
    "    print(\"b is not defined\")\n",
    "except FileNotFoundError:\n",
    "    print(\"File not found\")\n",
    "except Exception:\n",
    "    print(\"Please enter a valid name\")\n",
    "else:\n",
    "    print(\"Try executed without error\")\n",
    "    print(\"Form submitted successfully\")\n",
    "finally:\n",
    "    print(\"It is always there\")"
   ]
  },
  {
   "cell_type": "code",
   "execution_count": 8,
   "metadata": {},
   "outputs": [
    {
     "name": "stdout",
     "output_type": "stream",
     "text": [
      "Sai\n",
      "Try executed without error\n",
      "Form submitted successfully\n",
      "It is always there\n"
     ]
    }
   ],
   "source": [
    "try:\n",
    "    name = input()\n",
    "    if(len(name)<3):\n",
    "        raise Exception\n",
    "except NameError:\n",
    "    print(\"b is not defined\")\n",
    "except FileNotFoundError:\n",
    "    print(\"File not found\")\n",
    "except Exception:\n",
    "    print(\"Please enter a valid name\")\n",
    "else:\n",
    "    print(\"Try executed without error\")\n",
    "    print(\"Form submitted successfully\")\n",
    "finally:\n",
    "    print(\"It is always there\")"
   ]
  },
  {
   "cell_type": "code",
   "execution_count": null,
   "metadata": {},
   "outputs": [],
   "source": []
  }
 ],
 "metadata": {
  "kernelspec": {
   "display_name": "Python 3",
   "language": "python",
   "name": "python3"
  },
  "language_info": {
   "codemirror_mode": {
    "name": "ipython",
    "version": 3
   },
   "file_extension": ".py",
   "mimetype": "text/x-python",
   "name": "python",
   "nbconvert_exporter": "python",
   "pygments_lexer": "ipython3",
   "version": "3.6.7"
  }
 },
 "nbformat": 4,
 "nbformat_minor": 2
}
