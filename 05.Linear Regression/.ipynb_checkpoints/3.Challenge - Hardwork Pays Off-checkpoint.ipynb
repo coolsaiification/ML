{
 "cells": [
  {
   "cell_type": "markdown",
   "metadata": {},
   "source": [
    "## About Walkatime\n",
    "\n",
    "Since you are a student of Coding Blocks, you are expected to work hard and get better results than others. To track your time and expected performance in the Machine Learning Challenge, Prateek bhayia has asked to you install walkatime on your device which is an efficient time tracking tool to track your daily coding activity.\n",
    "<br><br>\n",
    "### Challenge\n",
    "\n",
    "In this challenge, Prateek bhayia gives you walkatime data of his past students and how they performed in the evaluation exam. Your task is to predict the score you will get given the amount of time you spend on coding daily.\n",
    "\n",
    "__Input__ You are given one feature corresponding to time noted by walkatime.\n",
    "\n",
    "__Output__ A scalar denoting the level of perfomance student achived by devoting the given time.\n",
    "\n",
    "Download the training data and upload your predictions for the testcases given below.\n",
    "\n"
   ]
  },
  {
   "cell_type": "code",
   "execution_count": 6,
   "metadata": {},
   "outputs": [],
   "source": [
    "import numpy as np\n",
    "import pandas as pd\n",
    "import matplotlib.pyplot as plt"
   ]
  },
  {
   "cell_type": "code",
   "execution_count": 72,
   "metadata": {},
   "outputs": [
    {
     "name": "stdout",
     "output_type": "stream",
     "text": [
      "(3750,) (3750,)\n"
     ]
    }
   ],
   "source": [
    "x = pd.read_csv(\"../Datasets/Linear_X_Train.csv\").values\n",
    "# x = (x-x.mean())/x.std()\n",
    "y = pd.read_csv(\"../Datasets/Linear_Y_Train.csv\").values\n",
    "x = np.reshape(x, (-1, ))\n",
    "y = np.reshape(y, (-1, ))\n",
    "print(x.shape, y.shape)"
   ]
  },
  {
   "cell_type": "code",
   "execution_count": 73,
   "metadata": {},
   "outputs": [
    {
     "data": {
      "image/png": "[encoded data removed]",
      "text/plain": [
       "<Figure size 432x288 with 1 Axes>"
      ]
     },
     "metadata": {
      "needs_background": "light"
     },
     "output_type": "display_data"
    }
   ],
   "source": [
    "plt.scatter(x,y)\n",
    "plt.show()"
   ]
  },
  {
   "cell_type": "code",
   "execution_count": 74,
   "metadata": {},
   "outputs": [],
   "source": [
    "def hypotheses(x,theta):\n",
    "    return theta[0] + theta[1]*x\n",
    "\n",
    "def error(X,Y,theta):\n",
    "    err = 0\n",
    "    for i in range(X.shape[0]):\n",
    "        err += (hypotheses(X[i],theta)-Y[i])**2\n",
    "    return err\n",
    "\n",
    "def gradient(X,Y,theta):\n",
    "    grad = np.zeros((2,))\n",
    "    for i in range(X.shape[0]):\n",
    "        grad[0] += (hypotheses(X[i],theta)-Y[i])\n",
    "        grad[1] += (hypotheses(X[i],theta)-Y[i])*X[i]\n",
    "    return grad\n",
    "    \n",
    "def gradientDescent(X,Y,maxItr=100,learningRate=0.01):\n",
    "    theta = np.zeros((2,))\n",
    "    error_list = []\n",
    "    while maxItr:\n",
    "        error_list.append(error(X,Y,theta))\n",
    "        theta -= learningRate*gradient(X,Y,theta)\n",
    "        maxItr -= 1\n",
    "    return theta,error_list"
   ]
  },
  {
   "cell_type": "code",
   "execution_count": 82,
   "metadata": {},
   "outputs": [
    {
     "data": {
      "image/png": "[encoded data removed]",
      "text/plain": [
       "<Figure size 432x288 with 1 Axes>"
      ]
     },
     "metadata": {
      "needs_background": "light"
     },
     "output_type": "display_data"
    }
   ],
   "source": [
    "theta,error_list = gradientDescent(x,y,maxItr=1000,learningRate=0.0001)\n",
    "plt.plot(error_list)\n",
    "plt.show()"
   ]
  },
  {
   "cell_type": "code",
   "execution_count": 83,
   "metadata": {},
   "outputs": [
    {
     "data": {
      "image/png": "[encoded data removed]",
      "text/plain": [
       "<Figure size 432x288 with 1 Axes>"
      ]
     },
     "metadata": {
      "needs_background": "light"
     },
     "output_type": "display_data"
    }
   ],
   "source": [
    "plt.scatter(x,y)\n",
    "xTest = np.linspace(-2,6,10)\n",
    "plt.plot(xTest, hypotheses(xTest,theta), color='red')\n",
    "plt.show()"
   ]
  },
  {
   "cell_type": "code",
   "execution_count": 84,
   "metadata": {},
   "outputs": [
    {
     "data": {
      "text/html": [
       "<div>\n",
       "<style scoped>\n",
       "    .dataframe tbody tr th:only-of-type {\n",
       "        vertical-align: middle;\n",
       "    }\n",
       "\n",
       "    .dataframe tbody tr th {\n",
       "        vertical-align: top;\n",
       "    }\n",
       "\n",
       "    .dataframe thead th {\n",
       "        text-align: right;\n",
       "    }\n",
       "</style>\n",
       "<table border=\"1\" class=\"dataframe\">\n",
       "  <thead>\n",
       "    <tr style=\"text-align: right;\">\n",
       "      <th></th>\n",
       "      <th>y</th>\n",
       "    </tr>\n",
       "  </thead>\n",
       "  <tbody>\n",
       "    <tr>\n",
       "      <th>0</th>\n",
       "      <td>-147.528475</td>\n",
       "    </tr>\n",
       "    <tr>\n",
       "      <th>1</th>\n",
       "      <td>-66.266998</td>\n",
       "    </tr>\n",
       "    <tr>\n",
       "      <th>2</th>\n",
       "      <td>-200.062093</td>\n",
       "    </tr>\n",
       "    <tr>\n",
       "      <th>3</th>\n",
       "      <td>226.044960</td>\n",
       "    </tr>\n",
       "    <tr>\n",
       "      <th>4</th>\n",
       "      <td>51.329285</td>\n",
       "    </tr>\n",
       "  </tbody>\n",
       "</table>\n",
       "</div>"
      ],
      "text/plain": [
       "            y\n",
       "0 -147.528475\n",
       "1  -66.266998\n",
       "2 -200.062093\n",
       "3  226.044960\n",
       "4   51.329285"
      ]
     },
     "execution_count": 84,
     "metadata": {},
     "output_type": "execute_result"
    }
   ],
   "source": [
    "xTest = pd.read_csv(\"../Datasets/Linear_X_Test.csv\").values\n",
    "xTest = np.reshape(xTest,(-1,))\n",
    "yTest = xTest\n",
    "for i in range(xTest.shape[0]):\n",
    "    yTest[i] = hypotheses(xTest[i],theta)\n",
    "pd.DataFrame(yTest).to_csv(\"../Datasets/Linear_Y_Test.csv\", index= False)\n",
    "yTestDF = pd.read_csv(\"../Datasets/Linear_Y_Test.csv\")\n",
    "yTestDF.columns = ['y']\n",
    "yTestDF.to_csv(\"../Datasets/Linear_Y_Test.csv\", index= False)\n",
    "yTestDF = pd.read_csv(\"../Datasets/Linear_Y_Test.csv\")\n",
    "yTestDF.head()"
   ]
  },
  {
   "cell_type": "code",
   "execution_count": null,
   "metadata": {},
   "outputs": [],
   "source": []
  }
 ],
 "metadata": {
  "kernelspec": {
   "display_name": "Python 3",
   "language": "python",
   "name": "python3"
  },
  "language_info": {
   "codemirror_mode": {
    "name": "ipython",
    "version": 3
   },
   "file_extension": ".py",
   "mimetype": "text/x-python",
   "name": "python",
   "nbconvert_exporter": "python",
   "pygments_lexer": "ipython3",
   "version": "3.6.7"
  }
 },
 "nbformat": 4,
 "nbformat_minor": 2
}
