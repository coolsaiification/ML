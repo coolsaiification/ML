{
 "cells": [
  {
   "cell_type": "markdown",
   "metadata": {},
   "source": [
    "# JSON\n",
    "\n",
    "## Serialize\n",
    "- json.dumps(obj) obj to string\n",
    "- json.dump(obj,f) obj to json file\n",
    "\n",
    "## Deserialize\n",
    "- json.loads(s) string to obj\n",
    "- json.load(f) json file to obj"
   ]
  },
  {
   "cell_type": "code",
   "execution_count": 10,
   "metadata": {},
   "outputs": [
    {
     "name": "stdout",
     "output_type": "stream",
     "text": [
      "<class 'dict'>\n",
      "{'name': 'Python', 'page': 200, 'authors': [{'name': 'A1', 'age': 35}, {'name': 'A2', 'age': 40}]}\n"
     ]
    }
   ],
   "source": [
    "import json\n",
    "\n",
    "# Dictionary\n",
    "book = {\n",
    "    'name': 'Python',\n",
    "    'page': 200,\n",
    "    'authors': [\n",
    "        {\n",
    "            'name': 'A1',\n",
    "            'age': 35            \n",
    "        },\n",
    "        {\n",
    "            'name': 'A2',\n",
    "            'age': 40\n",
    "        }\n",
    "    ]\n",
    "}\n",
    "print(type(book))\n",
    "print(book)"
   ]
  },
  {
   "cell_type": "markdown",
   "metadata": {},
   "source": [
    "### dump"
   ]
  },
  {
   "cell_type": "code",
   "execution_count": 13,
   "metadata": {},
   "outputs": [],
   "source": [
    "with open('7.1. sample.json', 'w') as f:\n",
    "    json.dump(book,f)"
   ]
  },
  {
   "cell_type": "markdown",
   "metadata": {},
   "source": [
    "### load"
   ]
  },
  {
   "cell_type": "code",
   "execution_count": 19,
   "metadata": {},
   "outputs": [
    {
     "name": "stdout",
     "output_type": "stream",
     "text": [
      "{\"name\": \"Python\", \"page\": 200, \"authors\": [{\"name\": \"A1\", \"age\": 35}, {\"name\": \"A2\", \"age\": 40}]}\n",
      "<class 'dict'>\n",
      "{'name': 'Python', 'page': 200, 'authors': [{'name': 'A1', 'age': 35}, {'name': 'A2', 'age': 40}]}\n"
     ]
    }
   ],
   "source": [
    "with open('7.1. sample.json', 'r') as f:\n",
    "    print(f.read())\n",
    "    f.seek(0)\n",
    "    obj = json.load(f)\n",
    "    print(type(obj))\n",
    "    print(obj)"
   ]
  },
  {
   "cell_type": "markdown",
   "metadata": {},
   "source": [
    "### dumps"
   ]
  },
  {
   "cell_type": "code",
   "execution_count": 22,
   "metadata": {},
   "outputs": [
    {
     "name": "stdout",
     "output_type": "stream",
     "text": [
      "<class 'str'>\n",
      "{\"name\": \"Python\", \"page\": 200, \"authors\": [{\"name\": \"A1\", \"age\": 35}, {\"name\": \"A2\", \"age\": 40}]}\n"
     ]
    }
   ],
   "source": [
    "s = json.dumps(book)\n",
    "print(type(s))\n",
    "print(s)"
   ]
  },
  {
   "cell_type": "markdown",
   "metadata": {},
   "source": [
    "### loads"
   ]
  },
  {
   "cell_type": "code",
   "execution_count": 23,
   "metadata": {},
   "outputs": [
    {
     "name": "stdout",
     "output_type": "stream",
     "text": [
      "<class 'dict'>\n",
      "{'name': 'Python', 'page': 200, 'authors': [{'name': 'A1', 'age': 35}, {'name': 'A2', 'age': 40}]}\n"
     ]
    }
   ],
   "source": [
    "obj = json.loads(s)\n",
    "print(type(obj))\n",
    "print(obj)"
   ]
  },
  {
   "cell_type": "code",
   "execution_count": null,
   "metadata": {},
   "outputs": [],
   "source": []
  }
 ],
 "metadata": {
  "kernelspec": {
   "display_name": "Python 3",
   "language": "python",
   "name": "python3"
  },
  "language_info": {
   "codemirror_mode": {
    "name": "ipython",
    "version": 3
   },
   "file_extension": ".py",
   "mimetype": "text/x-python",
   "name": "python",
   "nbconvert_exporter": "python",
   "pygments_lexer": "ipython3",
   "version": "3.6.7"
  }
 },
 "nbformat": 4,
 "nbformat_minor": 2
}
