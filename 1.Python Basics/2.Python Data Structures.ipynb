{
 "cells": [
  {
   "cell_type": "markdown",
   "metadata": {},
   "source": [
    "# Python Data Structures\n",
    "1. Strings (Done Before)\n",
    "2. List\n",
    "3. Dictionaries\n",
    "4. Tuples\n",
    "5. Sets"
   ]
  },
  {
   "cell_type": "markdown",
   "metadata": {},
   "source": [
    "## 2. List\n",
    "Like array but heterogeneous"
   ]
  },
  {
   "cell_type": "code",
   "execution_count": 12,
   "metadata": {},
   "outputs": [
    {
     "name": "stdout",
     "output_type": "stream",
     "text": [
      "[1, 2, 'Hello', True]\n",
      "<class 'list'>\n",
      "[1, 2, 3]\n",
      "[1, 2, 3]\n"
     ]
    }
   ],
   "source": [
    "l1 = [1,2,\"Hello\",True]\n",
    "print(l1)\n",
    "print(type(l1))\n",
    "\n",
    "l2 = list([1,2,3])\n",
    "print(l2)\n",
    "\n",
    "l3 = list(l2)\n",
    "print(l3)"
   ]
  },
  {
   "cell_type": "code",
   "execution_count": 13,
   "metadata": {},
   "outputs": [
    {
     "name": "stdout",
     "output_type": "stream",
     "text": [
      "[1, 2, 3, 1, 2, 3]\n"
     ]
    }
   ],
   "source": [
    "l3 = l3 + l2\n",
    "print(l3)"
   ]
  },
  {
   "cell_type": "code",
   "execution_count": 14,
   "metadata": {},
   "outputs": [
    {
     "name": "stdout",
     "output_type": "stream",
     "text": [
      "[1, 2, 'Hello', True, 1, 2, 3]\n",
      "[1, 2, 'Hello', True, 1, 2, 3, 1, 2, 'Hello', True, 1, 2, 3, 1, 2, 'Hello', True, 1, 2, 3]\n"
     ]
    }
   ],
   "source": [
    "l1 = l1+l2\n",
    "print(l1)\n",
    "l1 = l1*3\n",
    "print(l1)"
   ]
  },
  {
   "cell_type": "code",
   "execution_count": 17,
   "metadata": {},
   "outputs": [
    {
     "name": "stdout",
     "output_type": "stream",
     "text": [
      "[1, 4, 9, 16, 25]\n",
      "[1, 4, 9]\n",
      "[9, 16, 25]\n"
     ]
    }
   ],
   "source": [
    "# List of squares \n",
    "l1 = [i*i for i in range(1,6)]\n",
    "print(l1)\n",
    "# List Slicing (Same as array)\n",
    "print(l1[:3])\n",
    "print(l1[-3:])"
   ]
  },
  {
   "cell_type": "markdown",
   "metadata": {},
   "source": [
    "### Insertion & deletion\n",
    "- append\n",
    "- insert\n",
    "- remove\n",
    "- pop\n",
    "- del"
   ]
  },
  {
   "cell_type": "code",
   "execution_count": 33,
   "metadata": {},
   "outputs": [
    {
     "name": "stdout",
     "output_type": "stream",
     "text": [
      "[1, 2, 3, [1, 2]]\n",
      "[1, 2, 20, 3, [1, 2]]\n",
      "[1, 2, 20, [1, 2]]\n",
      "[2, 20, [1, 2]]\n",
      "Popped element [1, 2]\n",
      "[2, 20]\n"
     ]
    }
   ],
   "source": [
    "l1 = [1,2,3]\n",
    "# Different for +\n",
    "l1.append([1,2])\n",
    "print(l1)\n",
    "l1.insert(2,20)\n",
    "print(l1)\n",
    "l1.remove(3)\n",
    "print(l1)\n",
    "# Exception if element not present\n",
    "# l1.remove(3)\n",
    "del l1[0]\n",
    "print(l1)\n",
    "print(\"Popped element \"+str(l1.pop()))\n",
    "print(l1)"
   ]
  },
  {
   "cell_type": "code",
   "execution_count": 35,
   "metadata": {},
   "outputs": [
    {
     "name": "stdout",
     "output_type": "stream",
     "text": [
      "1,2,3,4,5,\n",
      "1,2,3,4,5,"
     ]
    }
   ],
   "source": [
    "l1 = [1,2,3,4,5]\n",
    "for i in range(len(l1)):\n",
    "    print(l1[i], end=',')\n",
    "print()\n",
    "for x in l1:\n",
    "    print(x, end=',')"
   ]
  },
  {
   "cell_type": "code",
   "execution_count": 44,
   "metadata": {},
   "outputs": [
    {
     "name": "stdout",
     "output_type": "stream",
     "text": [
      "5\n",
      "1\n",
      "2\n",
      "[1, 2, 3, 4, 5]\n",
      "[1, 2, 3, 4, 5]\n",
      "[5, 4, 3, 2, 1]\n"
     ]
    }
   ],
   "source": [
    "# More functions\n",
    "l = list([5,1,3,2,4])\n",
    "print(max(l))\n",
    "print(min(l))\n",
    "# Linear search\n",
    "print(l.index(3))\n",
    "# Sorting and searching\n",
    "l1 = l2 = l3 = l\n",
    "l1 = sorted(l1)\n",
    "print(l1)\n",
    "l2.sort()\n",
    "print(l2)\n",
    "l3.sort(reverse=True)\n",
    "print(l3)"
   ]
  },
  {
   "cell_type": "code",
   "execution_count": 47,
   "metadata": {},
   "outputs": [
    {
     "name": "stdout",
     "output_type": "stream",
     "text": [
      "    3 5 23 2 10\n",
      "[3, 5, 23, 2, 10]\n",
      "<class 'list'>\n"
     ]
    }
   ],
   "source": [
    "# Read numbers\n",
    "l = [int(num) for num in input().split()]\n",
    "print(l)\n",
    "print(type(l))"
   ]
  },
  {
   "cell_type": "markdown",
   "metadata": {},
   "source": [
    "## 3. Dictionary"
   ]
  },
  {
   "cell_type": "code",
   "execution_count": 54,
   "metadata": {},
   "outputs": [
    {
     "name": "stdout",
     "output_type": "stream",
     "text": [
      "<class 'dict'>\n",
      "100\n",
      "{'Mango': 100, 'Apple': 200, 'Guava': 300}\n",
      "{'Mango': 100, 'Apple': 200, 'Guava': 300, 'Grape': [100, 200]}\n",
      "{'Small': 50, 'Large': 80}\n",
      "80\n"
     ]
    }
   ],
   "source": [
    "d = {}\n",
    "print(type(d))\n",
    "d = {'Mango':100, 'Apple':200}\n",
    "print(d['Mango'])\n",
    "d['Guava'] = 300\n",
    "print(d)\n",
    "d['Grape'] = [100,200]\n",
    "print(d)\n",
    "d['Pinapple'] = {'Small':50, 'Large':80}\n",
    "print(d['Pinapple'])\n",
    "print(d['Pinapple']['Large'])"
   ]
  },
  {
   "cell_type": "code",
   "execution_count": 57,
   "metadata": {},
   "outputs": [
    {
     "name": "stdout",
     "output_type": "stream",
     "text": [
      "dict_keys(['Mango', 'Apple', 'Guava', 'Grape', 'Pinapple'])\n",
      "dict_values([100, 200, 300, [100, 200], {'Small': 50, 'Large': 80}])\n"
     ]
    }
   ],
   "source": [
    "print(d.keys())\n",
    "print(d.values())"
   ]
  },
  {
   "cell_type": "code",
   "execution_count": null,
   "metadata": {},
   "outputs": [],
   "source": []
  }
 ],
 "metadata": {
  "kernelspec": {
   "display_name": "Python 3",
   "language": "python",
   "name": "python3"
  },
  "language_info": {
   "codemirror_mode": {
    "name": "ipython",
    "version": 3
   },
   "file_extension": ".py",
   "mimetype": "text/x-python",
   "name": "python",
   "nbconvert_exporter": "python",
   "pygments_lexer": "ipython3",
   "version": "3.6.7"
  }
 },
 "nbformat": 4,
 "nbformat_minor": 2
}
