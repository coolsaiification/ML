{
 "cells": [
  {
   "cell_type": "markdown",
   "metadata": {},
   "source": [
    "# OOPS"
   ]
  },
  {
   "cell_type": "code",
   "execution_count": 1,
   "metadata": {},
   "outputs": [
    {
     "name": "stdout",
     "output_type": "stream",
     "text": [
      "<class '__main__.A'>\n",
      "<class 'type'>\n"
     ]
    }
   ],
   "source": [
    "# Minimalistic class\n",
    "class A():\n",
    "    pass\n",
    "print(A)\n",
    "print(type(A))"
   ]
  },
  {
   "cell_type": "code",
   "execution_count": 4,
   "metadata": {},
   "outputs": [
    {
     "name": "stdout",
     "output_type": "stream",
     "text": [
      "Golden Retriever\n",
      "['Jump', 'Sit']\n",
      "Pug\n",
      "['Sleep', 'Roll']\n"
     ]
    }
   ],
   "source": [
    "class Dog():\n",
    "    # Class variable. Same for all instances.\n",
    "    color = \"Brown\"\n",
    "    \n",
    "    def __init__(self,breed):\n",
    "        # Instance variables. Different for each instance.\n",
    "        self.activities = []\n",
    "        self.breed = breed\n",
    "    \n",
    "    def addActivity(self,activity):\n",
    "        self.activities.append(activity)\n",
    "    \n",
    "    def doActivities(self):\n",
    "        print(self.breed)\n",
    "        print(self.activities)\n",
    "\n",
    "d1 = Dog(\"Golden Retriever\")\n",
    "d1.addActivity(\"Jump\")\n",
    "d1.addActivity(\"Sit\")\n",
    "\n",
    "d2 = Dog(\"Pug\")\n",
    "d2.addActivity(\"Sleep\")\n",
    "d2.addActivity(\"Roll\")\n",
    "\n",
    "d1.doActivities()\n",
    "d2.doActivities()"
   ]
  },
  {
   "cell_type": "code",
   "execution_count": null,
   "metadata": {},
   "outputs": [],
   "source": []
  }
 ],
 "metadata": {
  "kernelspec": {
   "display_name": "Python 3",
   "language": "python",
   "name": "python3"
  },
  "language_info": {
   "codemirror_mode": {
    "name": "ipython",
    "version": 3
   },
   "file_extension": ".py",
   "mimetype": "text/x-python",
   "name": "python",
   "nbconvert_exporter": "python",
   "pygments_lexer": "ipython3",
   "version": "3.6.7"
  }
 },
 "nbformat": 4,
 "nbformat_minor": 2
}
