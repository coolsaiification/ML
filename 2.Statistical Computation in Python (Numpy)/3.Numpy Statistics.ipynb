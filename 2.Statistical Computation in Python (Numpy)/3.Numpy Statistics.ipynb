{
 "cells": [
  {
   "cell_type": "markdown",
   "metadata": {},
   "source": [
    "# Numpy Functions - Statistics\n",
    "- min, max\n",
    "- mean\n",
    "- median\n",
    "- average\n",
    "- variance\n",
    "- standard deviation"
   ]
  },
  {
   "cell_type": "code",
   "execution_count": 5,
   "metadata": {},
   "outputs": [
    {
     "name": "stdout",
     "output_type": "stream",
     "text": [
      "[[1 2 3 4]\n",
      " [7 1 2 5]]\n",
      "1\n",
      "[1 1 2 4]\n",
      "[1 1]\n"
     ]
    }
   ],
   "source": [
    "import numpy as np\n",
    "\n",
    "a = np.array([[1,2,3,4],[7,1,2,5]])\n",
    "print(a)\n",
    "print(np.min(a))\n",
    "print(np.min(a, axis=0))\n",
    "print(np.min(a, axis=1))"
   ]
  },
  {
   "cell_type": "markdown",
   "metadata": {},
   "source": [
    "## Mean"
   ]
  },
  {
   "cell_type": "code",
   "execution_count": 10,
   "metadata": {},
   "outputs": [
    {
     "name": "stdout",
     "output_type": "stream",
     "text": [
      "3.0\n",
      "3.0\n",
      "[[1 2 3 4]\n",
      " [7 1 2 5]]\n",
      "[ 4.   1.5  2.5  4.5]\n",
      "[ 2.5   3.75]\n"
     ]
    }
   ],
   "source": [
    "b = np.array([1,2,3,4,5])\n",
    "# Formula\n",
    "print( sum(b)/len(b) )\n",
    "# Inbuilt\n",
    "print( np.mean(b) )\n",
    "\n",
    "print(a)\n",
    "print( np.mean(a, axis=0))\n",
    "print( np.mean(a, axis=1))"
   ]
  },
  {
   "cell_type": "markdown",
   "metadata": {},
   "source": [
    "## Average(weighted)"
   ]
  },
  {
   "cell_type": "code",
   "execution_count": 16,
   "metadata": {},
   "outputs": [
    {
     "name": "stdout",
     "output_type": "stream",
     "text": [
      "3.66666666667\n",
      "3.0\n"
     ]
    }
   ],
   "source": [
    "w1 = np.array([1,2,3,4,5])\n",
    "w2 = np.ones(5)\n",
    "\n",
    "print(np.average(b, weights=w1))\n",
    "# When weight is 1, mean=average\n",
    "print(np.average(b, weights=w2))"
   ]
  },
  {
   "cell_type": "markdown",
   "metadata": {},
   "source": [
    "## Median"
   ]
  },
  {
   "cell_type": "code",
   "execution_count": 18,
   "metadata": {},
   "outputs": [
    {
     "name": "stdout",
     "output_type": "stream",
     "text": [
      "4.0\n"
     ]
    }
   ],
   "source": [
    "f = np.array([1,5,2,4,6])\n",
    "print(np.median(f))"
   ]
  },
  {
   "cell_type": "markdown",
   "metadata": {},
   "source": [
    "## Standard Deviation"
   ]
  },
  {
   "cell_type": "code",
   "execution_count": 26,
   "metadata": {
    "scrolled": true
   },
   "outputs": [
    {
     "name": "stdout",
     "output_type": "stream",
     "text": [
      "1.8547236991\n",
      "1.8547236991\n"
     ]
    }
   ],
   "source": [
    "c = np.array([1,5,4,2,0])\n",
    "# Formula\n",
    "u = np.mean(c)\n",
    "sd = np.sqrt(np.mean(abs(c-u)**2))\n",
    "print(sd)\n",
    "# Inbuilt\n",
    "isd = np.std(c)\n",
    "print(isd)"
   ]
  },
  {
   "cell_type": "markdown",
   "metadata": {},
   "source": [
    "## Variance"
   ]
  },
  {
   "cell_type": "code",
   "execution_count": 27,
   "metadata": {},
   "outputs": [
    {
     "name": "stdout",
     "output_type": "stream",
     "text": [
      "3.44\n",
      "3.44\n"
     ]
    }
   ],
   "source": [
    "# Formula\n",
    "print(sd**2)\n",
    "# Inbuilt\n",
    "print(np.var(c))"
   ]
  },
  {
   "cell_type": "code",
   "execution_count": null,
   "metadata": {},
   "outputs": [],
   "source": []
  }
 ],
 "metadata": {
  "kernelspec": {
   "display_name": "Python 3",
   "language": "python",
   "name": "python3"
  },
  "language_info": {
   "codemirror_mode": {
    "name": "ipython",
    "version": 3
   },
   "file_extension": ".py",
   "mimetype": "text/x-python",
   "name": "python",
   "nbconvert_exporter": "python",
   "pygments_lexer": "ipython3",
   "version": "3.6.7"
  }
 },
 "nbformat": 4,
 "nbformat_minor": 2
}
