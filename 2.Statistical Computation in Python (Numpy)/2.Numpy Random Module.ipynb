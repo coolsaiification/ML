{
 "cells": [
  {
   "cell_type": "markdown",
   "metadata": {},
   "source": [
    "# Random module\n",
    "- __rand__ : Random values in given shape\n",
    "- __randn__ : Returns sample/samples from \"standard normal\" distribution\n",
    "- __randint__ : Returns random integers from low(inclusive) to high(exclusive)\n",
    "- __random__ : Returns random floats in the half-open interval [0.0, 1.0)\n",
    "- __choice__ : Generates random sample from a given 1-D array\n",
    "- __shuffle__ : Shuffles the contents of a sequence"
   ]
  },
  {
   "cell_type": "code",
   "execution_count": 7,
   "metadata": {},
   "outputs": [
    {
     "name": "stdout",
     "output_type": "stream",
     "text": [
      "[0 1 2 3 4 5 6 7 8 9]\n",
      "[ 5  6  7  8  9 10 11 12 13 14]\n"
     ]
    }
   ],
   "source": [
    "import numpy as np\n",
    "\n",
    "a = np.arange(10)\n",
    "print(a)\n",
    "b = np.arange(10) + 5\n",
    "print(b)"
   ]
  },
  {
   "cell_type": "code",
   "execution_count": 10,
   "metadata": {},
   "outputs": [
    {
     "name": "stdout",
     "output_type": "stream",
     "text": [
      "[ 7  6 10  9 11 12 13  5 14  8]\n",
      "[ 7  5 12  8  9 13 10  6 11 14]\n"
     ]
    }
   ],
   "source": [
    "np.random.shuffle(b)\n",
    "print(b)\n",
    "np.random.shuffle(b)\n",
    "print(b)"
   ]
  },
  {
   "cell_type": "code",
   "execution_count": 14,
   "metadata": {},
   "outputs": [
    {
     "name": "stdout",
     "output_type": "stream",
     "text": [
      "[[ 0.08026518  0.16844818  0.58327174]\n",
      " [ 0.86528754  0.64580378  0.61145219]]\n",
      "[[-0.19458006 -0.80572966  1.88318245]\n",
      " [ 1.07598021 -0.87383514  0.30276007]]\n"
     ]
    }
   ],
   "source": [
    "a = np.random.rand(2,3)\n",
    "print(a)\n",
    "\n",
    "# Returns values from standart normal distribution\n",
    "a = np.random.randn(2,3)\n",
    "print(a)"
   ]
  },
  {
   "cell_type": "code",
   "execution_count": 16,
   "metadata": {},
   "outputs": [
    {
     "name": "stdout",
     "output_type": "stream",
     "text": [
      "[8 8 6]\n"
     ]
    }
   ],
   "source": [
    "# 3 random ints in [5,10)\n",
    "x = np.random.randint(5,10,3)\n",
    "print(x)"
   ]
  },
  {
   "cell_type": "code",
   "execution_count": 17,
   "metadata": {},
   "outputs": [
    {
     "name": "stdout",
     "output_type": "stream",
     "text": [
      "23\n"
     ]
    }
   ],
   "source": [
    "# Randomly pick one element from array\n",
    "print(np.random.choice([1,23,4,21,64]))"
   ]
  },
  {
   "cell_type": "code",
   "execution_count": 19,
   "metadata": {},
   "outputs": [],
   "source": [
    "# Replicate(store the random machine)\n",
    "# As it is preudo random\n",
    "np.random.seed(1)"
   ]
  },
  {
   "cell_type": "code",
   "execution_count": null,
   "metadata": {},
   "outputs": [],
   "source": []
  }
 ],
 "metadata": {
  "kernelspec": {
   "display_name": "Python 3",
   "language": "python",
   "name": "python3"
  },
  "language_info": {
   "codemirror_mode": {
    "name": "ipython",
    "version": 3
   },
   "file_extension": ".py",
   "mimetype": "text/x-python",
   "name": "python",
   "nbconvert_exporter": "python",
   "pygments_lexer": "ipython3",
   "version": "3.6.7"
  }
 },
 "nbformat": 4,
 "nbformat_minor": 2
}
