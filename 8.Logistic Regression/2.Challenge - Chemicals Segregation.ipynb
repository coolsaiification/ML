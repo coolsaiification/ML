{
 "cells": [
  {
   "cell_type": "markdown",
   "metadata": {},
   "source": [
    "# Chemical Segregation(Classification)\n",
    "A chemist has two chemical flasks labelled 1 and 0 which contains two different chemicals. He extracted 3 features from these chemicals in order to distinguish between them. You are provided with the results derived by the chemist and your task is to create a model that will label chemical 0 or 1 given its three features."
   ]
  },
  {
   "cell_type": "code",
   "execution_count": 9,
   "metadata": {},
   "outputs": [],
   "source": [
    "import numpy as np\n",
    "import pandas as pd\n",
    "import matplotlib.pyplot as plt"
   ]
  },
  {
   "cell_type": "code",
   "execution_count": 22,
   "metadata": {},
   "outputs": [
    {
     "name": "stdout",
     "output_type": "stream",
     "text": [
      "(3000, 3) (3000, 1)\n"
     ]
    }
   ],
   "source": [
    "x = pd.read_csv(\"../Datasets/Logistic Regression/Logistic_X_Train.csv\").values\n",
    "y = pd.read_csv(\"../Datasets/Logistic Regression/Logistic_Y_Train.csv\").values\n",
    "print(x.shape, y.shape)"
   ]
  },
  {
   "cell_type": "code",
   "execution_count": 23,
   "metadata": {},
   "outputs": [
    {
     "name": "stdout",
     "output_type": "stream",
     "text": [
      "(3000, 1)\n"
     ]
    }
   ],
   "source": [
    "ones = np.ones((x.shape[0],1))\n",
    "print(ones.shape)"
   ]
  },
  {
   "cell_type": "code",
   "execution_count": 24,
   "metadata": {},
   "outputs": [
    {
     "name": "stdout",
     "output_type": "stream",
     "text": [
      "(3000, 4)\n",
      "[[-1.23937466  0.74910149 -0.52851491  1.        ]\n",
      " [-1.03607028  0.80143631 -1.28371152  1.        ]]\n"
     ]
    }
   ],
   "source": [
    "x = np.hstack((x,ones))\n",
    "print(x.shape)\n",
    "print(x[:2,])"
   ]
  },
  {
   "cell_type": "code",
   "execution_count": 91,
   "metadata": {},
   "outputs": [],
   "source": [
    "def hypothesis(x,w):\n",
    "    return sigmoid(np.dot(x,w))\n",
    "\n",
    "def sigmoid(z):\n",
    "    return 1/(1+np.exp(-z))\n",
    "\n",
    "def error(x,w,y):\n",
    "    ml = 0\n",
    "    for i in range(x.shape[0]):\n",
    "        hx = hypothesis(x[i],w)\n",
    "        ml += y[i]*np.log2(hx) + (1-y[i])*np.log2(1-hx)\n",
    "    err = -ml/x.shape[0]\n",
    "    return err\n",
    "\n",
    "def getGrads(x,y,w):\n",
    "    grads = np.zeros(w.shape)\n",
    "    for i in range(x.shape[0]):\n",
    "        grads += (y[i] - hypothesis(x[i],w))*x[i]\n",
    "    grads /= x.shape[0]\n",
    "    return grads\n",
    "\n",
    "def gradientDescent(x,y,learningRate=0.5, maxItr=100):\n",
    "    w = np.zeros((x.shape[1],))\n",
    "    errList = []\n",
    "    for i in range(maxItr):\n",
    "        err = error(x,w,y)\n",
    "        errList.append(err)\n",
    "        grads = getGrads(x,y,w)\n",
    "        w += learningRate*grads\n",
    "    return w,errList\n",
    "\n",
    "        "
   ]
  },
  {
   "cell_type": "code",
   "execution_count": 92,
   "metadata": {},
   "outputs": [],
   "source": [
    "w,errList = gradientDescent(x,y)"
   ]
  },
  {
   "cell_type": "code",
   "execution_count": 93,
   "metadata": {},
   "outputs": [
    {
     "data": {
      "image/png": "[encoded data removed]",
      "text/plain": [
       "<Figure size 432x288 with 1 Axes>"
      ]
     },
     "metadata": {
      "needs_background": "light"
     },
     "output_type": "display_data"
    }
   ],
   "source": [
    "plt.plot(errList)\n",
    "plt.show()"
   ]
  },
  {
   "cell_type": "code",
   "execution_count": 94,
   "metadata": {},
   "outputs": [],
   "source": [
    "def predict(x,w):\n",
    "    confidence = hypothesis(x,w)\n",
    "    if(confidence<0.5):\n",
    "        return 0\n",
    "    else:\n",
    "        return 1"
   ]
  },
  {
   "cell_type": "code",
   "execution_count": 95,
   "metadata": {},
   "outputs": [
    {
     "data": {
      "text/html": [
       "<div>\n",
       "<style scoped>\n",
       "    .dataframe tbody tr th:only-of-type {\n",
       "        vertical-align: middle;\n",
       "    }\n",
       "\n",
       "    .dataframe tbody tr th {\n",
       "        vertical-align: top;\n",
       "    }\n",
       "\n",
       "    .dataframe thead th {\n",
       "        text-align: right;\n",
       "    }\n",
       "</style>\n",
       "<table border=\"1\" class=\"dataframe\">\n",
       "  <thead>\n",
       "    <tr style=\"text-align: right;\">\n",
       "      <th></th>\n",
       "      <th>label</th>\n",
       "    </tr>\n",
       "  </thead>\n",
       "  <tbody>\n",
       "    <tr>\n",
       "      <th>0</th>\n",
       "      <td>1</td>\n",
       "    </tr>\n",
       "    <tr>\n",
       "      <th>1</th>\n",
       "      <td>1</td>\n",
       "    </tr>\n",
       "    <tr>\n",
       "      <th>2</th>\n",
       "      <td>0</td>\n",
       "    </tr>\n",
       "    <tr>\n",
       "      <th>3</th>\n",
       "      <td>1</td>\n",
       "    </tr>\n",
       "    <tr>\n",
       "      <th>4</th>\n",
       "      <td>1</td>\n",
       "    </tr>\n",
       "  </tbody>\n",
       "</table>\n",
       "</div>"
      ],
      "text/plain": [
       "   label\n",
       "0      1\n",
       "1      1\n",
       "2      0\n",
       "3      1\n",
       "4      1"
      ]
     },
     "execution_count": 95,
     "metadata": {},
     "output_type": "execute_result"
    }
   ],
   "source": [
    "xTest = pd.read_csv(\"../Datasets/Logistic Regression/Logistic_X_Test.csv\").values\n",
    "onesTest = np.ones((xTest.shape[0],1))\n",
    "xTest = np.hstack((xTest,onesTest))\n",
    "yTest = []\n",
    "for i in range(xTest.shape[0]):\n",
    "    yTest.append(predict(xTest[i],w))\n",
    "yTest = np.array(yTest)\n",
    "pd.DataFrame(yTest).to_csv(\"../Datasets/Logistic Regression/Logistic_Y_Test.csv\", index= False)\n",
    "yTestDF = pd.read_csv(\"../Datasets/Logistic Regression/Logistic_Y_Test.csv\")\n",
    "yTestDF.columns = [\"label\"]\n",
    "yTestDF.to_csv(\"../Datasets/Logistic Regression/Logistic_Y_Test.csv\", index= False)\n",
    "yTestDF = pd.read_csv(\"../Datasets/Logistic Regression/Logistic_Y_Test.csv\")\n",
    "yTestDF.head()"
   ]
  },
  {
   "cell_type": "code",
   "execution_count": null,
   "metadata": {},
   "outputs": [],
   "source": []
  },
  {
   "cell_type": "code",
   "execution_count": null,
   "metadata": {},
   "outputs": [],
   "source": []
  }
 ],
 "metadata": {
  "kernelspec": {
   "display_name": "Python 3",
   "language": "python",
   "name": "python3"
  },
  "language_info": {
   "codemirror_mode": {
    "name": "ipython",
    "version": 3
   },
   "file_extension": ".py",
   "mimetype": "text/x-python",
   "name": "python",
   "nbconvert_exporter": "python",
   "pygments_lexer": "ipython3",
   "version": "3.6.7"
  }
 },
 "nbformat": 4,
 "nbformat_minor": 2
}
